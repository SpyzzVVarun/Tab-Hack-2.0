{
 "cells": [
  {
   "cell_type": "markdown",
   "id": "08b1d57d",
   "metadata": {
    "papermill": {
     "duration": 0.006986,
     "end_time": "2022-09-11T05:07:10.276281",
     "exception": false,
     "start_time": "2022-09-11T05:07:10.269295",
     "status": "completed"
    },
    "tags": []
   },
   "source": [
    "<h1 align='center'> ❎ XGBoost Classifier Tab Hack 2.0 🚨</h1>"
   ]
  },
  {
   "cell_type": "markdown",
   "id": "feb28b6d",
   "metadata": {
    "papermill": {
     "duration": 0.00551,
     "end_time": "2022-09-11T05:07:10.287670",
     "exception": false,
     "start_time": "2022-09-11T05:07:10.282160",
     "status": "completed"
    },
    "tags": []
   },
   "source": [
    "This notebook is the XGBoost Classifier notebook as part of Tab Hack 2.0, a Machine Learning Hackathon organized by IITG.ai, The Artificial Intelligence Community of IIT Guwahati.\n",
    "\n",
    "\n",
    "For more such hackathons and everything AI, do follow IITG.ai on these socials:\n",
    "    \n",
    "* [Linkedin](https://www.linkedin.com/company/iitg-ai/)\n",
    "* [Website](https://www.iitg.ac.in/sa/ai/#/)\n",
    "* [Instagram](https://www.instagram.com/iitg.ai/)"
   ]
  },
  {
   "cell_type": "markdown",
   "id": "75e71c8a",
   "metadata": {
    "papermill": {
     "duration": 0.005518,
     "end_time": "2022-09-11T05:07:10.298854",
     "exception": false,
     "start_time": "2022-09-11T05:07:10.293336",
     "status": "completed"
    },
    "tags": []
   },
   "source": [
    "## 📦 Importing Libraries"
   ]
  },
  {
   "cell_type": "code",
   "execution_count": 1,
   "id": "c412f039",
   "metadata": {
    "_cell_guid": "b1076dfc-b9ad-4769-8c92-a6c4dae69d19",
    "_uuid": "8f2839f25d086af736a60e9eeb907d3b93b6e0e5",
    "execution": {
     "iopub.execute_input": "2022-09-11T05:07:10.312374Z",
     "iopub.status.busy": "2022-09-11T05:07:10.311742Z",
     "iopub.status.idle": "2022-09-11T05:07:12.253392Z",
     "shell.execute_reply": "2022-09-11T05:07:12.252353Z"
    },
    "papermill": {
     "duration": 1.952143,
     "end_time": "2022-09-11T05:07:12.256697",
     "exception": false,
     "start_time": "2022-09-11T05:07:10.304554",
     "status": "completed"
    },
    "tags": []
   },
   "outputs": [],
   "source": [
    "import pandas as pd\n",
    "import numpy as np\n",
    "import matplotlib.pyplot as plt\n",
    "%matplotlib inline\n",
    "import seaborn as sns\n",
    "import warnings\n",
    "warnings.filterwarnings('ignore')\n",
    "import time\n",
    " \n",
    "import xgboost as xgb\n",
    "from sklearn import preprocessing\n",
    "from sklearn.model_selection import StratifiedKFold\n",
    "from sklearn.metrics import f1_score, accuracy_score\n",
    "from imblearn.under_sampling import RandomUnderSampler\n",
    "\n",
    "import optuna\n",
    "from optuna import Trial, visualization"
   ]
  },
  {
   "cell_type": "markdown",
   "id": "18622bfe",
   "metadata": {
    "papermill": {
     "duration": 0.009346,
     "end_time": "2022-09-11T05:07:12.276038",
     "exception": false,
     "start_time": "2022-09-11T05:07:12.266692",
     "status": "completed"
    },
    "tags": []
   },
   "source": [
    "## 🔃 Data Loading"
   ]
  },
  {
   "cell_type": "code",
   "execution_count": 2,
   "id": "6f795117",
   "metadata": {
    "execution": {
     "iopub.execute_input": "2022-09-11T05:07:12.295686Z",
     "iopub.status.busy": "2022-09-11T05:07:12.295314Z",
     "iopub.status.idle": "2022-09-11T05:07:22.819571Z",
     "shell.execute_reply": "2022-09-11T05:07:22.818525Z"
    },
    "papermill": {
     "duration": 10.537217,
     "end_time": "2022-09-11T05:07:22.822211",
     "exception": false,
     "start_time": "2022-09-11T05:07:12.284994",
     "status": "completed"
    },
    "tags": []
   },
   "outputs": [],
   "source": [
    "train = pd.read_csv('../input/tab-hack-20/Week8_train.csv')\n",
    "test = pd.read_csv('../input/tab-hack-20/Week8_test.csv')\n",
    "id_col = test['id']"
   ]
  },
  {
   "cell_type": "code",
   "execution_count": 3,
   "id": "cd225878",
   "metadata": {
    "execution": {
     "iopub.execute_input": "2022-09-11T05:07:22.836885Z",
     "iopub.status.busy": "2022-09-11T05:07:22.835173Z",
     "iopub.status.idle": "2022-09-11T05:07:22.856595Z",
     "shell.execute_reply": "2022-09-11T05:07:22.852257Z"
    },
    "papermill": {
     "duration": 0.035421,
     "end_time": "2022-09-11T05:07:22.863691",
     "exception": false,
     "start_time": "2022-09-11T05:07:22.828270",
     "status": "completed"
    },
    "tags": []
   },
   "outputs": [
    {
     "name": "stdout",
     "output_type": "stream",
     "text": [
      "Percentage of Minority Class 24.093904908970874\n"
     ]
    }
   ],
   "source": [
    "# Class Imbalance\n",
    "perc = (train['TARGET'].value_counts()[1]/train['TARGET'].value_counts()[0])*100\n",
    "print(f'Percentage of Minority Class {perc}')"
   ]
  },
  {
   "cell_type": "code",
   "execution_count": 4,
   "id": "3a3d16cd",
   "metadata": {
    "execution": {
     "iopub.execute_input": "2022-09-11T05:07:22.902133Z",
     "iopub.status.busy": "2022-09-11T05:07:22.901647Z",
     "iopub.status.idle": "2022-09-11T05:07:22.918542Z",
     "shell.execute_reply": "2022-09-11T05:07:22.917603Z"
    },
    "papermill": {
     "duration": 0.041886,
     "end_time": "2022-09-11T05:07:22.921202",
     "exception": false,
     "start_time": "2022-09-11T05:07:22.879316",
     "status": "completed"
    },
    "tags": []
   },
   "outputs": [
    {
     "data": {
      "text/plain": [
       "(110899, 483)"
      ]
     },
     "execution_count": 4,
     "metadata": {},
     "output_type": "execute_result"
    }
   ],
   "source": [
    "# Large Dataset\n",
    "train.shape"
   ]
  },
  {
   "cell_type": "markdown",
   "id": "9fcb2902",
   "metadata": {
    "papermill": {
     "duration": 0.010678,
     "end_time": "2022-09-11T05:07:22.946448",
     "exception": false,
     "start_time": "2022-09-11T05:07:22.935770",
     "status": "completed"
    },
    "tags": []
   },
   "source": [
    "## ⚒ Data Preprocessing"
   ]
  },
  {
   "cell_type": "code",
   "execution_count": 5,
   "id": "3d862504",
   "metadata": {
    "execution": {
     "iopub.execute_input": "2022-09-11T05:07:22.978999Z",
     "iopub.status.busy": "2022-09-11T05:07:22.976408Z",
     "iopub.status.idle": "2022-09-11T05:07:22.991365Z",
     "shell.execute_reply": "2022-09-11T05:07:22.990069Z"
    },
    "papermill": {
     "duration": 0.031153,
     "end_time": "2022-09-11T05:07:22.994774",
     "exception": false,
     "start_time": "2022-09-11T05:07:22.963621",
     "status": "completed"
    },
    "tags": []
   },
   "outputs": [],
   "source": [
    "''' Utils '''\n",
    "\n",
    "def get_constant_features(df, threshold=0.99, dropna=False):\n",
    "    '''\n",
    "    For a given dataframe, identify the constant and quasi constant features.\n",
    "    To get all the constant & quasi constant features in a list - constant_features_df['Var'].to_list()\n",
    "    \n",
    "    Parameters:\n",
    "    -----------\n",
    "        df: 'dataframe'\n",
    "        threshold: 'float'. default = 0.99\n",
    "        dropna: 'bool'. default = false\n",
    "        \n",
    "    Returns:\n",
    "    --------\n",
    "        constant_features_df: 'dataframe'\n",
    "    '''\n",
    "    constant_features = []\n",
    "    constant_features_df = pd.DataFrame(columns=['Desc', 'Var', 'Value', 'Perc'])\n",
    "    all_vars = list(df.columns)\n",
    "    i=0\n",
    "    for var in all_vars:\n",
    "        s = df[var].value_counts(normalize=True, dropna=dropna)\n",
    "        value = s.index[0]\n",
    "        perc = s.iloc[0]\n",
    "    \n",
    "        if perc==1:\n",
    "            constant_features_df.loc[i] = ['Constant', var, value, 100*perc]\n",
    "\n",
    "        elif perc>threshold:\n",
    "            constant_features_df.loc[i] = ['Quasi Constant', var, value, 100*perc]\n",
    "    \n",
    "        i=i+1\n",
    "    \n",
    "    constant_features_df = constant_features_df.sort_values(by='Perc', ascending=False, ignore_index=True) \n",
    "\n",
    "    return constant_features_df"
   ]
  },
  {
   "cell_type": "markdown",
   "id": "92e75063",
   "metadata": {
    "papermill": {
     "duration": 0.010694,
     "end_time": "2022-09-11T05:07:23.012693",
     "exception": false,
     "start_time": "2022-09-11T05:07:23.001999",
     "status": "completed"
    },
    "tags": []
   },
   "source": [
    "### 🔻 Reducing Memory Usage"
   ]
  },
  {
   "cell_type": "code",
   "execution_count": 6,
   "id": "78a24d19",
   "metadata": {
    "execution": {
     "iopub.execute_input": "2022-09-11T05:07:23.032163Z",
     "iopub.status.busy": "2022-09-11T05:07:23.031689Z",
     "iopub.status.idle": "2022-09-11T05:07:58.236447Z",
     "shell.execute_reply": "2022-09-11T05:07:58.235440Z"
    },
    "papermill": {
     "duration": 35.217393,
     "end_time": "2022-09-11T05:07:58.239159",
     "exception": false,
     "start_time": "2022-09-11T05:07:23.021766",
     "status": "completed"
    },
    "tags": []
   },
   "outputs": [],
   "source": [
    "# Datatype Conversions\n",
    "for i in train.columns:\n",
    "    if train[i].dtypes == 'float64':\n",
    "        train[i] = train[i].astype('float32')\n",
    "    elif train[i].dtypes == 'int64':\n",
    "        train[i] = train[i].astype('int32')\n",
    "        \n",
    "for i in test.columns:\n",
    "    if test[i].dtypes == 'float64':\n",
    "        test[i] = test[i].astype('float32')\n",
    "    elif test[i].dtypes == 'int64':\n",
    "        test[i] = test[i].astype('int32')"
   ]
  },
  {
   "cell_type": "markdown",
   "id": "b6fc52f2",
   "metadata": {
    "papermill": {
     "duration": 0.005869,
     "end_time": "2022-09-11T05:07:58.251882",
     "exception": false,
     "start_time": "2022-09-11T05:07:58.246013",
     "status": "completed"
    },
    "tags": []
   },
   "source": [
    "### 💧 Dropping Constant Features"
   ]
  },
  {
   "cell_type": "code",
   "execution_count": 7,
   "id": "130d5b48",
   "metadata": {
    "execution": {
     "iopub.execute_input": "2022-09-11T05:07:58.266313Z",
     "iopub.status.busy": "2022-09-11T05:07:58.264718Z",
     "iopub.status.idle": "2022-09-11T05:07:59.513380Z",
     "shell.execute_reply": "2022-09-11T05:07:59.512415Z"
    },
    "papermill": {
     "duration": 1.258131,
     "end_time": "2022-09-11T05:07:59.515870",
     "exception": false,
     "start_time": "2022-09-11T05:07:58.257739",
     "status": "completed"
    },
    "tags": []
   },
   "outputs": [],
   "source": [
    "constant_features = get_constant_features(train, threshold=1, dropna=False)\n",
    "lst = constant_features['Var'].to_list()\n",
    "lst.append('id')\n",
    "train.drop(lst,axis = 'columns',inplace = True)\n",
    "test.drop(lst,axis = 'columns',inplace = True)"
   ]
  },
  {
   "cell_type": "markdown",
   "id": "d531e644",
   "metadata": {
    "papermill": {
     "duration": 0.005874,
     "end_time": "2022-09-11T05:07:59.528000",
     "exception": false,
     "start_time": "2022-09-11T05:07:59.522126",
     "status": "completed"
    },
    "tags": []
   },
   "source": [
    "### 🏹 Missing Value Imputation"
   ]
  },
  {
   "cell_type": "code",
   "execution_count": 8,
   "id": "72931712",
   "metadata": {
    "execution": {
     "iopub.execute_input": "2022-09-11T05:07:59.541112Z",
     "iopub.status.busy": "2022-09-11T05:07:59.540775Z",
     "iopub.status.idle": "2022-09-11T05:07:59.585334Z",
     "shell.execute_reply": "2022-09-11T05:07:59.584359Z"
    },
    "papermill": {
     "duration": 0.053893,
     "end_time": "2022-09-11T05:07:59.587734",
     "exception": false,
     "start_time": "2022-09-11T05:07:59.533841",
     "status": "completed"
    },
    "tags": []
   },
   "outputs": [],
   "source": [
    "train['V_434'] = train['V_434'].fillna('Private')\n",
    "train['V_301'] = train['V_301'].fillna('Private')\n",
    "train['V_304'] = train['V_304'].fillna('U')\n",
    "test['V_434'] = test['V_434'].fillna('Private')\n",
    "test['V_301'] = test['V_301'].fillna('Private')\n",
    "test['V_304'] = test['V_304'].fillna('U')"
   ]
  },
  {
   "cell_type": "markdown",
   "id": "caf94bed",
   "metadata": {
    "papermill": {
     "duration": 0.005779,
     "end_time": "2022-09-11T05:07:59.599746",
     "exception": false,
     "start_time": "2022-09-11T05:07:59.593967",
     "status": "completed"
    },
    "tags": []
   },
   "source": [
    "### 😢 Dropping Some features with 0 MI scores"
   ]
  },
  {
   "cell_type": "code",
   "execution_count": 9,
   "id": "d990e8b5",
   "metadata": {
    "execution": {
     "iopub.execute_input": "2022-09-11T05:07:59.612851Z",
     "iopub.status.busy": "2022-09-11T05:07:59.612510Z",
     "iopub.status.idle": "2022-09-11T05:07:59.617118Z",
     "shell.execute_reply": "2022-09-11T05:07:59.616119Z"
    },
    "papermill": {
     "duration": 0.01349,
     "end_time": "2022-09-11T05:07:59.619136",
     "exception": false,
     "start_time": "2022-09-11T05:07:59.605646",
     "status": "completed"
    },
    "tags": []
   },
   "outputs": [],
   "source": [
    "# from sklearn.feature_selection import mutual_info_classif\n",
    "# X_train = train.drop(columns='TARGET').copy()\n",
    "# y_train = train['TARGET']\n",
    "# mi = mutual_info_classif(X_train, y_train, random_state=2021)\n",
    "# mi = pd.Series(mi)\n",
    "# mi.index = X_train.columns\n",
    "# mi = mi.sort_values(ascending=False)\n",
    "# df = pd.DataFrame(mi, columns = ['mi_value'])\n",
    "# lst = df[df['mi_value']==0].index.tolist()"
   ]
  },
  {
   "cell_type": "code",
   "execution_count": 10,
   "id": "57df34cc",
   "metadata": {
    "execution": {
     "iopub.execute_input": "2022-09-11T05:07:59.632485Z",
     "iopub.status.busy": "2022-09-11T05:07:59.632168Z",
     "iopub.status.idle": "2022-09-11T05:07:59.724657Z",
     "shell.execute_reply": "2022-09-11T05:07:59.723680Z"
    },
    "papermill": {
     "duration": 0.102013,
     "end_time": "2022-09-11T05:07:59.727131",
     "exception": false,
     "start_time": "2022-09-11T05:07:59.625118",
     "status": "completed"
    },
    "tags": []
   },
   "outputs": [],
   "source": [
    "# Saved the list here as the MI value finding process takes some time\n",
    "lst = ['V_357','V_362','V_354','V_365','V_359','V_360','V_353','V_348','V_1','V_412','V_368','V_369','V_436','V_437','V_438', 'V_439','V_441','V_442','V_444','V_448','V_451','V_452','V_453','V_454','V_456','V_457','V_458','V_461','V_466','V_467','V_469','V_470','V_474','V_477','V_479','V_480','V_481','V_429','V_426','V_424','V_390','V_370','V_371','V_374','V_375','V_376','V_377','V_378','V_384','V_385','V_387','V_388','V_392','V_423','V_394','V_396','V_397','V_398', 'V_399','V_402','V_408','V_342','V_418', 'V_420', 'V_421', 'V_343','V_240','V_341','V_108','V_118','V_116','V_114','V_113', 'V_111','V_110','V_106','V_170','V_104','V_102','V_100', 'V_99', 'V_93', 'V_92','V_119','V_124','V_126','V_127','V_131','V_140','V_141','V_143','V_144','V_146','V_148', 'V_152','V_153','V_156', 'V_165', 'V_167', 'V_168', 'V_91', 'V_90', 'V_87', 'V_43', 'V_3', 'V_6', 'V_7', 'V_10', 'V_12', 'V_14', 'V_19', 'V_25', 'V_28', 'V_32', 'V_33', 'V_35', 'V_37', 'V_38', 'V_44', 'V_86', 'V_49', 'V_53', 'V_56', 'V_62', 'V_63', 'V_64', 'V_69', 'V_71', 'V_73', 'V_74', 'V_75', 'V_78', 'V_80', 'V_81', 'V_169', 'V_171', 'V_339', 'V_270', 'V_288', 'V_286', 'V_284', 'V_283', 'V_281', 'V_272','V_269','V_172','V_263','V_262','V_260','V_258','V_253','V_250','V_292','V_295','V_296','V_299','V_300','V_306','V_309','V_310','V_315', 'V_319','V_321','V_323','V_324','V_328','V_329','V_330','V_331','V_249','V_244','V_242','V_204','V_175','V_177','V_178','V_180','V_182','V_186','V_187','V_188','V_192','V_196','V_197','V_198','V_200','V_202','V_205','V_2','V_208','V_209','V_213','V_214','V_217','V_219', 'V_221','V_223','V_224','V_226','V_230','V_231','V_235','V_239','V_482']\n",
    "train.drop(lst,axis = 'columns',inplace = True)\n",
    "test.drop(lst,axis = 'columns',inplace = True)"
   ]
  },
  {
   "cell_type": "markdown",
   "id": "6e09708a",
   "metadata": {
    "papermill": {
     "duration": 0.005749,
     "end_time": "2022-09-11T05:07:59.739294",
     "exception": false,
     "start_time": "2022-09-11T05:07:59.733545",
     "status": "completed"
    },
    "tags": []
   },
   "source": [
    "### 🏷 Label Encoding the Categorical Features"
   ]
  },
  {
   "cell_type": "code",
   "execution_count": 11,
   "id": "443076f9",
   "metadata": {
    "execution": {
     "iopub.execute_input": "2022-09-11T05:07:59.753498Z",
     "iopub.status.busy": "2022-09-11T05:07:59.752434Z",
     "iopub.status.idle": "2022-09-11T05:08:01.287630Z",
     "shell.execute_reply": "2022-09-11T05:08:01.286645Z"
    },
    "papermill": {
     "duration": 1.544836,
     "end_time": "2022-09-11T05:08:01.290039",
     "exception": false,
     "start_time": "2022-09-11T05:07:59.745203",
     "status": "completed"
    },
    "tags": []
   },
   "outputs": [],
   "source": [
    "object_cols = list(train.dtypes[train.dtypes == 'object'].keys())\n",
    "le = preprocessing.LabelEncoder()\n",
    "for col in object_cols:\n",
    "    temp = pd.concat([train,test])\n",
    "    le.fit(temp[col])\n",
    "    train[col] = le.fit_transform(train[col])\n",
    "    test[col] = le.transform(test[col])"
   ]
  },
  {
   "cell_type": "markdown",
   "id": "6f72f620",
   "metadata": {
    "papermill": {
     "duration": 0.005758,
     "end_time": "2022-09-11T05:08:01.301983",
     "exception": false,
     "start_time": "2022-09-11T05:08:01.296225",
     "status": "completed"
    },
    "tags": []
   },
   "source": [
    "### ❎ Creating folds for Cross Validation"
   ]
  },
  {
   "cell_type": "code",
   "execution_count": 12,
   "id": "c66d6317",
   "metadata": {
    "execution": {
     "iopub.execute_input": "2022-09-11T05:08:01.315406Z",
     "iopub.status.busy": "2022-09-11T05:08:01.315052Z",
     "iopub.status.idle": "2022-09-11T05:08:01.395448Z",
     "shell.execute_reply": "2022-09-11T05:08:01.394230Z"
    },
    "papermill": {
     "duration": 0.090517,
     "end_time": "2022-09-11T05:08:01.398488",
     "exception": false,
     "start_time": "2022-09-11T05:08:01.307971",
     "status": "completed"
    },
    "tags": []
   },
   "outputs": [],
   "source": [
    "feature_cols = [col for col in train.columns.tolist() if col not in ['TARGET']]\n",
    "target_cols = ['TARGET']\n",
    "\n",
    "# Stratified KFold due to class imbalance\n",
    "skf = StratifiedKFold(n_splits=5, random_state=42, shuffle=True)\n",
    "\n",
    "for i, (trn, val) in enumerate(skf.split(train[feature_cols], train[target_cols])):\n",
    "    train.loc[val, 'kfold'] = i\n",
    "train['kfold'] = train['kfold'].astype(int)"
   ]
  },
  {
   "cell_type": "markdown",
   "id": "89913e95",
   "metadata": {
    "papermill": {
     "duration": 0.005703,
     "end_time": "2022-09-11T05:08:01.410500",
     "exception": false,
     "start_time": "2022-09-11T05:08:01.404797",
     "status": "completed"
    },
    "tags": []
   },
   "source": [
    "## 🚂 Model Training"
   ]
  },
  {
   "cell_type": "code",
   "execution_count": 13,
   "id": "4b7b0d06",
   "metadata": {
    "_kg_hide-input": true,
    "execution": {
     "iopub.execute_input": "2022-09-11T05:08:01.423507Z",
     "iopub.status.busy": "2022-09-11T05:08:01.423185Z",
     "iopub.status.idle": "2022-09-11T05:08:01.427386Z",
     "shell.execute_reply": "2022-09-11T05:08:01.426450Z"
    },
    "jupyter": {
     "source_hidden": true
    },
    "papermill": {
     "duration": 0.013193,
     "end_time": "2022-09-11T05:08:01.429567",
     "exception": false,
     "start_time": "2022-09-11T05:08:01.416374",
     "status": "completed"
    },
    "tags": []
   },
   "outputs": [],
   "source": [
    "# Parameters with random state 7 for randomundersampler (gpu)\n",
    "# params = {\n",
    "#             'n_estimators':1000, \n",
    "#             'subsample':0.6,\n",
    "#             'colsample_bytree':0.6, \n",
    "#             'eta':0.028088855508628937,\n",
    "#             'max_depth':5,\n",
    "#             'min_child_weight':4,\n",
    "#              'random_state':42,\n",
    "#             'tree_method':'gpu_hist'\n",
    "#         }"
   ]
  },
  {
   "cell_type": "code",
   "execution_count": 14,
   "id": "3d516228",
   "metadata": {
    "execution": {
     "iopub.execute_input": "2022-09-11T05:08:01.442351Z",
     "iopub.status.busy": "2022-09-11T05:08:01.442073Z",
     "iopub.status.idle": "2022-09-11T05:08:15.406726Z",
     "shell.execute_reply": "2022-09-11T05:08:15.405442Z"
    },
    "papermill": {
     "duration": 13.97435,
     "end_time": "2022-09-11T05:08:15.409666",
     "exception": false,
     "start_time": "2022-09-11T05:08:01.435316",
     "status": "completed"
    },
    "tags": []
   },
   "outputs": [
    {
     "name": "stdout",
     "output_type": "stream",
     "text": [
      "\n",
      "FOLD: 0\n",
      "Training Accuracy Score -  0.708738308139136\n",
      "Training F1 Score -  0.645128272679947\n",
      "Validation Accuracy Score -  0.8100991884580704\n",
      "Validation F1 Score -  0.6462937324289627\n",
      "FOLD 0 completed in 4.9008948802948 seconds\n",
      "\n",
      "FOLD: 1\n",
      "Training Accuracy Score -  0.7067944290712832\n",
      "Training F1 Score -  0.6426333354612297\n",
      "Validation Accuracy Score -  0.812082957619477\n",
      "Validation F1 Score -  0.6499086370177222\n",
      "FOLD 1 completed in 2.3199987411499023 seconds\n",
      "\n",
      "FOLD: 2\n",
      "Training Accuracy Score -  0.7048370497427101\n",
      "Training F1 Score -  0.6378878557920964\n",
      "Validation Accuracy Score -  0.8177186654643823\n",
      "Validation F1 Score -  0.6591988338557042\n",
      "FOLD 2 completed in 2.463948965072632 seconds\n",
      "\n",
      "FOLD: 3\n",
      "Training Accuracy Score -  0.7098456260720412\n",
      "Training F1 Score -  0.6455729148738982\n",
      "Validation Accuracy Score -  0.8111361587015329\n",
      "Validation F1 Score -  0.6512076401667606\n",
      "FOLD 3 completed in 2.1019086837768555 seconds\n",
      "\n",
      "FOLD: 4\n",
      "Training Accuracy Score -  0.707206074050358\n",
      "Training F1 Score -  0.6417239258436885\n",
      "Validation Accuracy Score -  0.8133369403489787\n",
      "Validation F1 Score -  0.6545439816492511\n",
      "FOLD 4 completed in 2.1587893962860107 seconds\n"
     ]
    }
   ],
   "source": [
    "# 42 (gpu) and 7 (gpu)\n",
    "def run_training():\n",
    "    oof = np.zeros((train.shape[0], 2))\n",
    "    pred = np.zeros((test.shape[0], 2))\n",
    "    \n",
    "    for fold in range(5):\n",
    "\n",
    "        print(f\"\\nFOLD: {fold}\")\n",
    "        start = time.time()\n",
    "        \n",
    "        params = {\n",
    "            \"tree_method\": \"gpu_hist\",\n",
    "            \"random_state\": 42,\n",
    "            'n_estimators': 100, \n",
    "            'subsample': 0.95,\n",
    "            'colsample_bytree': 0.9,\n",
    "            'eta': 0.09,\n",
    "#             'alpha': 0.1, \n",
    "            'max_depth': 4, \n",
    "            'gamma':0.15,\n",
    "#             'min_child_weight': 10\n",
    "        }\n",
    "        \n",
    "        trn_idx = train['kfold'] != fold\n",
    "        val_idx = train['kfold'] == fold\n",
    "        trn = train.loc[trn_idx, :]\n",
    "        val = train.loc[val_idx, :]\n",
    "\n",
    "        xtr, ytr = trn[feature_cols].values, trn[target_cols].values\n",
    "        xval, yval = val[feature_cols].values, val[target_cols].values\n",
    "        xtest = test[feature_cols].values\n",
    "        \n",
    "        undersample = RandomUnderSampler(sampling_strategy = 0.65,random_state = 420)\n",
    "        xtr,ytr = undersample.fit_resample(xtr,ytr)\n",
    "        \n",
    "\n",
    "        model = xgb.XGBClassifier(**params)\n",
    "        model.fit(xtr, ytr.reshape(-1,))\n",
    "        print(\"Training Accuracy Score - \", accuracy_score(ytr, model.predict(xtr)))\n",
    "        print(\"Training F1 Score - \", f1_score(ytr, model.predict(xtr), average='macro'))\n",
    "        \n",
    "        print(\"Validation Accuracy Score - \", accuracy_score(yval, model.predict(xval)))\n",
    "        print(\"Validation F1 Score - \", f1_score(yval, model.predict(xval), average='macro'))\n",
    "        \n",
    "        oof[val_idx, :] += model.predict_proba(xval)\n",
    "        \n",
    "        # Test preds\n",
    "        pred += model.predict_proba(xtest)/5\n",
    "        \n",
    "        print(f\"FOLD {fold} completed in {time.time()-start} seconds\")\n",
    "        \n",
    "    return oof, pred\n",
    "\n",
    "oof, pred = run_training()"
   ]
  },
  {
   "cell_type": "code",
   "execution_count": 15,
   "id": "307b81be",
   "metadata": {
    "execution": {
     "iopub.execute_input": "2022-09-11T05:08:15.425369Z",
     "iopub.status.busy": "2022-09-11T05:08:15.425050Z",
     "iopub.status.idle": "2022-09-11T05:08:15.469737Z",
     "shell.execute_reply": "2022-09-11T05:08:15.468578Z"
    },
    "papermill": {
     "duration": 0.054878,
     "end_time": "2022-09-11T05:08:15.472054",
     "exception": false,
     "start_time": "2022-09-11T05:08:15.417176",
     "status": "completed"
    },
    "tags": []
   },
   "outputs": [
    {
     "data": {
      "text/plain": [
       "0.6522287312834548"
      ]
     },
     "execution_count": 15,
     "metadata": {},
     "output_type": "execute_result"
    }
   ],
   "source": [
    "def find_oof_score(oof):\n",
    "    predictions = oof.argmax(axis=1)\n",
    "    return f1_score(train[target_cols], predictions, average='macro')\n",
    "\n",
    "find_oof_score(oof)"
   ]
  },
  {
   "cell_type": "markdown",
   "id": "1f024bdf",
   "metadata": {
    "papermill": {
     "duration": 0.006708,
     "end_time": "2022-09-11T05:08:15.485864",
     "exception": false,
     "start_time": "2022-09-11T05:08:15.479156",
     "status": "completed"
    },
    "tags": []
   },
   "source": [
    "## 🎶 Hyperparameter Tuning Optuna Template Code"
   ]
  },
  {
   "cell_type": "code",
   "execution_count": 16,
   "id": "09eedb35",
   "metadata": {
    "execution": {
     "iopub.execute_input": "2022-09-11T05:08:15.500876Z",
     "iopub.status.busy": "2022-09-11T05:08:15.500511Z",
     "iopub.status.idle": "2022-09-11T05:08:15.513017Z",
     "shell.execute_reply": "2022-09-11T05:08:15.512138Z"
    },
    "papermill": {
     "duration": 0.022457,
     "end_time": "2022-09-11T05:08:15.515037",
     "exception": false,
     "start_time": "2022-09-11T05:08:15.492580",
     "status": "completed"
    },
    "tags": []
   },
   "outputs": [],
   "source": [
    "def fit_xgb(trial, xtr, ytr, xval, yval):\n",
    "    params = {\n",
    "        \"n_estimators\": trial.suggest_categorical(\"n_estimators\", [100,150]), #50,100,150,500,1000,1500\n",
    "        \"subsample\": trial.suggest_discrete_uniform(\"subsample\", 0.5,1,0.1), \n",
    "        \"colsample_bytree\": trial.suggest_discrete_uniform(\"colsample_bytree\", 0.7,1,0.1), \n",
    "        \"eta\": trial.suggest_loguniform(\"eta\",1e-2,0.1),\n",
    "        'alpha': trial.suggest_loguniform('alpha', 1e-3, 10.0),\n",
    "        \"gamma\": trial.suggest_loguniform(\"gamma\",0.05,1),\n",
    "        \"max_depth\": trial.suggest_categorical(\"max_depth\",[3,5,7]),\n",
    "        \"min_child_weight\": trial.suggest_int(\"min_child_weight\",0,120),\n",
    "        \"tree_method\": \"gpu_hist\",\n",
    "        \"random_state\": 42\n",
    "    }\n",
    "\n",
    "    model = xgb.XGBClassifier(**params)\n",
    "    model.fit(xtr, ytr.reshape(-1,),eval_set = [(xval,yval)],verbose = False)\n",
    "    \n",
    "    y_val_pred = model.predict(xval)\n",
    "    \n",
    "    log = {\n",
    "        \"train f1\": f1_score(ytr, model.predict(xtr), average=\"macro\"),\n",
    "        \"valid f1\": f1_score(yval, y_val_pred, average=\"macro\")\n",
    "    }\n",
    "    \n",
    "    return model, y_val_pred, log\n",
    "\n",
    "def objective(trial):\n",
    "    oof = np.zeros((train.shape[0], 2))\n",
    "    \n",
    "    for fold in range(5):\n",
    "        trn_idx = train['kfold'] != fold\n",
    "        val_idx = train['kfold'] == fold\n",
    "        trn = train.loc[trn_idx, :]\n",
    "        val = train.loc[val_idx, :]\n",
    "\n",
    "        xtr, ytr = trn[feature_cols].values, trn[target_cols].values\n",
    "        xval, yval = val[feature_cols].values, val[target_cols].values\n",
    "        undersample = RandomUnderSampler(sampling_strategy = 0.65,random_state = 42)\n",
    "        xtr,ytr = undersample.fit_resample(xtr,ytr)\n",
    "        model, y_val_pred, log = fit_xgb(trial, xtr, ytr, xval, yval)\n",
    "        oof[val_idx, :] += model.predict_proba(xval)\n",
    "        \n",
    "    return find_oof_score(oof)\n",
    "\n",
    "# study = optuna.create_study(direction=\"maximize\")\n",
    "# study.optimize(objective, n_trials = 50)\n",
    "\n",
    "# history = study.trials_dataframe()\n",
    "# history.sort_values(by=\"value\", ascending=False)"
   ]
  },
  {
   "cell_type": "markdown",
   "id": "0a724158",
   "metadata": {
    "papermill": {
     "duration": 0.006597,
     "end_time": "2022-09-11T05:08:15.528625",
     "exception": false,
     "start_time": "2022-09-11T05:08:15.522028",
     "status": "completed"
    },
    "tags": []
   },
   "source": [
    "## 📝 Submission"
   ]
  },
  {
   "cell_type": "code",
   "execution_count": 17,
   "id": "1539743b",
   "metadata": {
    "execution": {
     "iopub.execute_input": "2022-09-11T05:08:15.544220Z",
     "iopub.status.busy": "2022-09-11T05:08:15.543378Z",
     "iopub.status.idle": "2022-09-11T05:08:15.559918Z",
     "shell.execute_reply": "2022-09-11T05:08:15.558874Z"
    },
    "papermill": {
     "duration": 0.02651,
     "end_time": "2022-09-11T05:08:15.561998",
     "exception": false,
     "start_time": "2022-09-11T05:08:15.535488",
     "status": "completed"
    },
    "tags": []
   },
   "outputs": [
    {
     "data": {
      "text/html": [
       "<div>\n",
       "<style scoped>\n",
       "    .dataframe tbody tr th:only-of-type {\n",
       "        vertical-align: middle;\n",
       "    }\n",
       "\n",
       "    .dataframe tbody tr th {\n",
       "        vertical-align: top;\n",
       "    }\n",
       "\n",
       "    .dataframe thead th {\n",
       "        text-align: right;\n",
       "    }\n",
       "</style>\n",
       "<table border=\"1\" class=\"dataframe\">\n",
       "  <thead>\n",
       "    <tr style=\"text-align: right;\">\n",
       "      <th></th>\n",
       "      <th>TARGET</th>\n",
       "      <th>id</th>\n",
       "    </tr>\n",
       "  </thead>\n",
       "  <tbody>\n",
       "    <tr>\n",
       "      <th>0</th>\n",
       "      <td>0</td>\n",
       "      <td>0</td>\n",
       "    </tr>\n",
       "    <tr>\n",
       "      <th>1</th>\n",
       "      <td>0</td>\n",
       "      <td>1</td>\n",
       "    </tr>\n",
       "    <tr>\n",
       "      <th>2</th>\n",
       "      <td>0</td>\n",
       "      <td>2</td>\n",
       "    </tr>\n",
       "    <tr>\n",
       "      <th>3</th>\n",
       "      <td>0</td>\n",
       "      <td>3</td>\n",
       "    </tr>\n",
       "    <tr>\n",
       "      <th>4</th>\n",
       "      <td>0</td>\n",
       "      <td>4</td>\n",
       "    </tr>\n",
       "    <tr>\n",
       "      <th>...</th>\n",
       "      <td>...</td>\n",
       "      <td>...</td>\n",
       "    </tr>\n",
       "    <tr>\n",
       "      <th>110894</th>\n",
       "      <td>0</td>\n",
       "      <td>110894</td>\n",
       "    </tr>\n",
       "    <tr>\n",
       "      <th>110895</th>\n",
       "      <td>0</td>\n",
       "      <td>110895</td>\n",
       "    </tr>\n",
       "    <tr>\n",
       "      <th>110896</th>\n",
       "      <td>1</td>\n",
       "      <td>110896</td>\n",
       "    </tr>\n",
       "    <tr>\n",
       "      <th>110897</th>\n",
       "      <td>0</td>\n",
       "      <td>110897</td>\n",
       "    </tr>\n",
       "    <tr>\n",
       "      <th>110898</th>\n",
       "      <td>0</td>\n",
       "      <td>110898</td>\n",
       "    </tr>\n",
       "  </tbody>\n",
       "</table>\n",
       "<p>110899 rows × 2 columns</p>\n",
       "</div>"
      ],
      "text/plain": [
       "        TARGET      id\n",
       "0            0       0\n",
       "1            0       1\n",
       "2            0       2\n",
       "3            0       3\n",
       "4            0       4\n",
       "...        ...     ...\n",
       "110894       0  110894\n",
       "110895       0  110895\n",
       "110896       1  110896\n",
       "110897       0  110897\n",
       "110898       0  110898\n",
       "\n",
       "[110899 rows x 2 columns]"
      ]
     },
     "execution_count": 17,
     "metadata": {},
     "output_type": "execute_result"
    }
   ],
   "source": [
    "final_preds = pred.argmax(axis=1)\n",
    "pred_csv = pd.DataFrame(final_preds.reshape(-1), columns=['TARGET'] )\n",
    "pred_csv['id'] = id_col\n",
    "pred_csv"
   ]
  },
  {
   "cell_type": "code",
   "execution_count": 18,
   "id": "5bbde169",
   "metadata": {
    "execution": {
     "iopub.execute_input": "2022-09-11T05:08:15.578494Z",
     "iopub.status.busy": "2022-09-11T05:08:15.577544Z",
     "iopub.status.idle": "2022-09-11T05:08:15.682967Z",
     "shell.execute_reply": "2022-09-11T05:08:15.681939Z"
    },
    "papermill": {
     "duration": 0.116363,
     "end_time": "2022-09-11T05:08:15.685456",
     "exception": false,
     "start_time": "2022-09-11T05:08:15.569093",
     "status": "completed"
    },
    "tags": []
   },
   "outputs": [],
   "source": [
    "pred_csv.to_csv('submission.csv',index = False)\n",
    "np.save('oof_xgb.npy', oof)\n",
    "np.save('pred_xgb.npy', pred)"
   ]
  }
 ],
 "metadata": {
  "kernelspec": {
   "display_name": "Python 3",
   "language": "python",
   "name": "python3"
  },
  "language_info": {
   "codemirror_mode": {
    "name": "ipython",
    "version": 3
   },
   "file_extension": ".py",
   "mimetype": "text/x-python",
   "name": "python",
   "nbconvert_exporter": "python",
   "pygments_lexer": "ipython3",
   "version": "3.7.12"
  },
  "papermill": {
   "default_parameters": {},
   "duration": 74.786574,
   "end_time": "2022-09-11T05:08:17.015735",
   "environment_variables": {},
   "exception": null,
   "input_path": "__notebook__.ipynb",
   "output_path": "__notebook__.ipynb",
   "parameters": {},
   "start_time": "2022-09-11T05:07:02.229161",
   "version": "2.3.4"
  }
 },
 "nbformat": 4,
 "nbformat_minor": 5
}
