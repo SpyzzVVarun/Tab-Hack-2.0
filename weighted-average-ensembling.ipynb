{
 "cells": [
  {
   "cell_type": "markdown",
   "id": "6fcfe8f5",
   "metadata": {
    "papermill": {
     "duration": 0.004304,
     "end_time": "2022-09-10T10:44:23.029086",
     "exception": false,
     "start_time": "2022-09-10T10:44:23.024782",
     "status": "completed"
    },
    "tags": []
   },
   "source": [
    "<h1 align='center'> ⚖ Weighted Average Ensembling  🏋️‍♀️</h1>"
   ]
  },
  {
   "cell_type": "markdown",
   "id": "6653335d",
   "metadata": {
    "papermill": {
     "duration": 0.003245,
     "end_time": "2022-09-10T10:44:23.036020",
     "exception": false,
     "start_time": "2022-09-10T10:44:23.032775",
     "status": "completed"
    },
    "tags": []
   },
   "source": [
    "This notebook is a model ensembling notebook as part of Tab Hack 2.0, a Machine Learning Hackathon organized by IITG.ai, The Artificial Intelligence Community of IIT Guwahati.\n",
    "\n",
    "\n",
    "For more such hackathons and everything AI, do follow IITG.ai on these socials:\n",
    "    \n",
    "* [Linkedin](https://www.linkedin.com/company/iitg-ai/)\n",
    "* [Website](https://www.iitg.ac.in/sa/ai/#/)\n",
    "* [Instagram](https://www.instagram.com/iitg.ai/)"
   ]
  },
  {
   "cell_type": "markdown",
   "id": "fda00c4f",
   "metadata": {
    "papermill": {
     "duration": 0.003151,
     "end_time": "2022-09-10T10:44:23.042561",
     "exception": false,
     "start_time": "2022-09-10T10:44:23.039410",
     "status": "completed"
    },
    "tags": []
   },
   "source": [
    "### 🎶 Optimization based Weighted Average Ensembling\n",
    "* An alternative to searching for weight values is to use a directed optimization process.\n",
    "* Optimization is a search process, but instead of sampling the space of possible solutions randomly or exhaustively, the search process uses any available information to make the next step in the search, such as toward a set of weights that has lower error.\n",
    "* We use the **Scipy** Implementation of the **Differential Evolution** method to find the global minimum of a multivariate function."
   ]
  },
  {
   "cell_type": "markdown",
   "id": "c5c0f4ca",
   "metadata": {
    "papermill": {
     "duration": 0.003441,
     "end_time": "2022-09-10T10:44:23.049341",
     "exception": false,
     "start_time": "2022-09-10T10:44:23.045900",
     "status": "completed"
    },
    "tags": []
   },
   "source": [
    "## 📦 Importing Libraries"
   ]
  },
  {
   "cell_type": "code",
   "execution_count": 1,
   "id": "748fe6dd",
   "metadata": {
    "execution": {
     "iopub.execute_input": "2022-09-10T10:44:23.058232Z",
     "iopub.status.busy": "2022-09-10T10:44:23.057765Z",
     "iopub.status.idle": "2022-09-10T10:44:28.901711Z",
     "shell.execute_reply": "2022-09-10T10:44:28.900741Z"
    },
    "papermill": {
     "duration": 5.85149,
     "end_time": "2022-09-10T10:44:28.904249",
     "exception": false,
     "start_time": "2022-09-10T10:44:23.052759",
     "status": "completed"
    },
    "tags": []
   },
   "outputs": [],
   "source": [
    "# Basic Imports\n",
    "import os\n",
    "import numpy as np\n",
    "import pandas as pd\n",
    "import matplotlib.pyplot as plt\n",
    "%matplotlib inline\n",
    "import seaborn as sns\n",
    "import warnings\n",
    "warnings.filterwarnings('ignore')\n",
    "\n",
    "# Time based imports\n",
    "import datetime\n",
    "from time import time\n",
    "\n",
    "# The cool stuff\n",
    "import tensorflow as tf\n",
    "import scipy\n",
    "from sklearn.metrics import f1_score, accuracy_score\n",
    "from colorama import Fore, Back, Style"
   ]
  },
  {
   "cell_type": "markdown",
   "id": "19d172a4",
   "metadata": {
    "papermill": {
     "duration": 0.003304,
     "end_time": "2022-09-10T10:44:28.911351",
     "exception": false,
     "start_time": "2022-09-10T10:44:28.908047",
     "status": "completed"
    },
    "tags": []
   },
   "source": [
    "## 🔃 Data Loading"
   ]
  },
  {
   "cell_type": "code",
   "execution_count": 2,
   "id": "3d1bda8b",
   "metadata": {
    "execution": {
     "iopub.execute_input": "2022-09-10T10:44:28.920171Z",
     "iopub.status.busy": "2022-09-10T10:44:28.919518Z",
     "iopub.status.idle": "2022-09-10T10:44:37.519418Z",
     "shell.execute_reply": "2022-09-10T10:44:37.518076Z"
    },
    "papermill": {
     "duration": 8.607237,
     "end_time": "2022-09-10T10:44:37.521982",
     "exception": false,
     "start_time": "2022-09-10T10:44:28.914745",
     "status": "completed"
    },
    "tags": []
   },
   "outputs": [],
   "source": [
    "train = pd.read_csv('../input/tab-hack-20/Week8_train.csv')\n",
    "test = pd.read_csv('../input/tab-hack-20/Week8_test.csv')"
   ]
  },
  {
   "cell_type": "code",
   "execution_count": 3,
   "id": "5493b0c2",
   "metadata": {
    "execution": {
     "iopub.execute_input": "2022-09-10T10:44:37.532466Z",
     "iopub.status.busy": "2022-09-10T10:44:37.532051Z",
     "iopub.status.idle": "2022-09-10T10:44:37.541848Z",
     "shell.execute_reply": "2022-09-10T10:44:37.541147Z"
    },
    "papermill": {
     "duration": 0.017111,
     "end_time": "2022-09-10T10:44:37.543616",
     "exception": false,
     "start_time": "2022-09-10T10:44:37.526505",
     "status": "completed"
    },
    "tags": []
   },
   "outputs": [],
   "source": [
    "id_col = test['id']\n",
    "feature_cols = [col for col in train.columns.tolist() if col not in ['TARGET']]\n",
    "target_cols = ['TARGET']"
   ]
  },
  {
   "cell_type": "markdown",
   "id": "52c0a014",
   "metadata": {
    "papermill": {
     "duration": 0.003518,
     "end_time": "2022-09-10T10:44:37.551694",
     "exception": false,
     "start_time": "2022-09-10T10:44:37.548176",
     "status": "completed"
    },
    "tags": []
   },
   "source": [
    "## 👨‍🔬 The ensembling begins..."
   ]
  },
  {
   "cell_type": "code",
   "execution_count": 4,
   "id": "74331b7d",
   "metadata": {
    "execution": {
     "iopub.execute_input": "2022-09-10T10:44:37.561160Z",
     "iopub.status.busy": "2022-09-10T10:44:37.559894Z",
     "iopub.status.idle": "2022-09-10T10:44:37.999490Z",
     "shell.execute_reply": "2022-09-10T10:44:37.998798Z"
    },
    "papermill": {
     "duration": 0.446411,
     "end_time": "2022-09-10T10:44:38.001751",
     "exception": false,
     "start_time": "2022-09-10T10:44:37.555340",
     "status": "completed"
    },
    "tags": []
   },
   "outputs": [
    {
     "name": "stderr",
     "output_type": "stream",
     "text": [
      "2022-09-10 10:44:37.973039: I tensorflow/core/common_runtime/process_util.cc:146] Creating new thread pool with default inter op setting: 2. Tune using inter_op_parallelism_threads for best performance.\n"
     ]
    }
   ],
   "source": [
    "oof_paths = ['../input/oof-preds/oof_cat.npy',\n",
    "             '../input/oof-preds/oof_cat (1).npy',\n",
    "             '../input/oof-preds/oof_lgb.npy',\n",
    "             '../input/oof-preds/oof_lgb (1).npy',\n",
    "             '../input/oof-preds/oof_lgb (2).npy',\n",
    "             '../input/oof-preds/oof_xgb.npy',\n",
    "             '../input/oof-preds/oof_xgb (2).npy',\n",
    "             '../input/oof-preds/oof_xgb (3).npy']\n",
    "\n",
    "pred_paths = ['../input/oof-preds/pred_cat.npy',\n",
    "             '../input/oof-preds/pred_cat (1).npy',\n",
    "             '../input/oof-preds/pred_lgb.npy',\n",
    "             '../input/oof-preds/pred_lgb (1).npy',\n",
    "             '../input/oof-preds/pred_lgb (2).npy',\n",
    "              '../input/oof-preds/pred_xgb.npy',\n",
    "              '../input/oof-preds/pred_xgb (2).npy',\n",
    "             '../input/oof-preds/pred_xgb (3).npy']\n",
    "\n",
    "oof_comp = np.zeros((len(oof_paths), len(train[target_cols]), 2))\n",
    "pred_comp = np.zeros((len(pred_paths), len(test), 2))\n",
    "\n",
    "for i in range(len(oof_paths)):\n",
    "    oof_comp[i, :, :] = np.load(oof_paths[i])\n",
    "    \n",
    "for i in range(len(pred_paths)):\n",
    "    pred_comp[i, :, :] = np.load(pred_paths[i])\n",
    "    \n",
    "y_true = (train[target_cols].values).reshape(-1,1)\n",
    "y_true_hot = np.array(tf.one_hot(y_true, depth=2)).reshape(-1,2)\n",
    "\n",
    "\n",
    "def f1score(oof):\n",
    "    predictions = oof.argmax(axis=1)\n",
    "    return f1_score(train[target_cols], predictions, average='macro')\n",
    "\n",
    "# return negative of f1 to minimize\n",
    "def func_numpy_metric(weights):\n",
    "    oof_blend = np.tensordot(weights, oof_comp, axes=(0,0))\n",
    "    return -f1score(oof_blend)"
   ]
  },
  {
   "cell_type": "code",
   "execution_count": 5,
   "id": "27faad15",
   "metadata": {
    "execution": {
     "iopub.execute_input": "2022-09-10T10:44:38.010897Z",
     "iopub.status.busy": "2022-09-10T10:44:38.010136Z",
     "iopub.status.idle": "2022-09-10T10:44:38.224903Z",
     "shell.execute_reply": "2022-09-10T10:44:38.223151Z"
    },
    "papermill": {
     "duration": 0.221737,
     "end_time": "2022-09-10T10:44:38.227407",
     "exception": false,
     "start_time": "2022-09-10T10:44:38.005670",
     "status": "completed"
    },
    "tags": []
   },
   "outputs": [
    {
     "name": "stdout",
     "output_type": "stream",
     "text": [
      "../input/oof-preds/oof_cat.npy CV:\t\t\t \u001b[33m\u001b[1m 0.6525343017800713 \u001b[0m\n",
      "../input/oof-preds/oof_cat (1).npy CV:\t\t\t \u001b[33m\u001b[1m 0.6523905036267263 \u001b[0m\n",
      "../input/oof-preds/oof_lgb.npy CV:\t\t\t \u001b[33m\u001b[1m 0.6525829407803301 \u001b[0m\n",
      "../input/oof-preds/oof_lgb (1).npy CV:\t\t\t \u001b[33m\u001b[1m 0.6529750791361038 \u001b[0m\n",
      "../input/oof-preds/oof_lgb (2).npy CV:\t\t\t \u001b[33m\u001b[1m 0.652263575396941 \u001b[0m\n",
      "../input/oof-preds/oof_xgb.npy CV:\t\t\t \u001b[33m\u001b[1m 0.6531533715660178 \u001b[0m\n",
      "../input/oof-preds/oof_xgb (2).npy CV:\t\t\t \u001b[33m\u001b[1m 0.6524598483803724 \u001b[0m\n",
      "../input/oof-preds/oof_xgb (3).npy CV:\t\t\t \u001b[33m\u001b[1m 0.6527397009792669 \u001b[0m\n",
      "--------------------------------------------------------------------------------\n",
      "CPU times: user 206 ms, sys: 0 ns, total: 206 ms\n",
      "Wall time: 208 ms\n"
     ]
    }
   ],
   "source": [
    "%%time\n",
    "\n",
    "f1_scores = {}\n",
    "\n",
    "for i in range(len(oof_paths)):\n",
    "    score_oof = f1score(oof_comp[i, ...])\n",
    "    f1_scores[oof_paths[i]] = score_oof\n",
    "    print(f'{oof_paths[i]} CV:\\t\\t\\t',f'{Fore.YELLOW}{Style.BRIGHT}',score_oof,f'{Style.RESET_ALL}')\n",
    "print('-' * 80)"
   ]
  },
  {
   "cell_type": "code",
   "execution_count": 6,
   "id": "77302f0a",
   "metadata": {
    "execution": {
     "iopub.execute_input": "2022-09-10T10:44:38.236552Z",
     "iopub.status.busy": "2022-09-10T10:44:38.236222Z",
     "iopub.status.idle": "2022-09-10T10:44:48.296834Z",
     "shell.execute_reply": "2022-09-10T10:44:48.296070Z"
    },
    "papermill": {
     "duration": 10.067597,
     "end_time": "2022-09-10T10:44:48.298980",
     "exception": false,
     "start_time": "2022-09-10T10:44:38.231383",
     "status": "completed"
    },
    "tags": []
   },
   "outputs": [
    {
     "name": "stdout",
     "output_type": "stream",
     "text": [
      "\u001b[31m\u001b[1mInital Blend OOF: -0.6538948214881087 \u001b[0m\n",
      "differential_evolution step 1: f(x)= -0.654247\n",
      "\u001b[32m\u001b[1mOptimised Blend OOF: -0.6542467000583063\n",
      "\u001b[0mOptimised Weights: [0.13067212 0.57876246 0.34823518 0.23581806 0.02251458 0.18558999\n",
      " 0.57732874 0.26721049]\n"
     ]
    }
   ],
   "source": [
    "tolerance = 1e-3\n",
    "bounds = [(0, 1) for _ in range(oof_comp.shape[0])]\n",
    "init_guess = [1 / oof_comp.shape[0]] * oof_comp.shape[0]\n",
    "print(f'{Fore.RED}{Style.BRIGHT}Inital Blend OOF:', func_numpy_metric(init_guess),f'{Style.RESET_ALL}')\n",
    "start_time = time()\n",
    "\n",
    "# global optimization of ensemble weights\n",
    "res_scipy = scipy.optimize.differential_evolution(func = func_numpy_metric,\n",
    "                                                 bounds=bounds,\n",
    "                                                 disp=True, \n",
    "                                                 tol=tolerance)\n",
    "\n",
    "print(f'{Fore.GREEN}{Style.BRIGHT}Optimised Blend OOF:', res_scipy.fun)\n",
    "print(f'{Style.RESET_ALL}Optimised Weights:', res_scipy.x)\n",
    "\n",
    "# get the chosen weights\n",
    "weights = res_scipy.x"
   ]
  },
  {
   "cell_type": "code",
   "execution_count": 7,
   "id": "8d1d4b7a",
   "metadata": {
    "execution": {
     "iopub.execute_input": "2022-09-10T10:44:48.310908Z",
     "iopub.status.busy": "2022-09-10T10:44:48.310566Z",
     "iopub.status.idle": "2022-09-10T10:44:48.321326Z",
     "shell.execute_reply": "2022-09-10T10:44:48.320583Z"
    },
    "papermill": {
     "duration": 0.019255,
     "end_time": "2022-09-10T10:44:48.323471",
     "exception": false,
     "start_time": "2022-09-10T10:44:48.304216",
     "status": "completed"
    },
    "tags": []
   },
   "outputs": [],
   "source": [
    "# using optimized weights for ensembling \n",
    "def blend_preds(weights):\n",
    "    for i in range(pred_comp.shape[0]):\n",
    "        pred_blend = np.tensordot(weights, pred_comp, axes=(0,0))\n",
    "        \n",
    "    return pred_blend\n",
    "\n",
    "pred_blend = blend_preds(weights)"
   ]
  },
  {
   "cell_type": "markdown",
   "id": "5e96644f",
   "metadata": {
    "papermill": {
     "duration": 0.00459,
     "end_time": "2022-09-10T10:44:48.333073",
     "exception": false,
     "start_time": "2022-09-10T10:44:48.328483",
     "status": "completed"
    },
    "tags": []
   },
   "source": [
    "## Submission"
   ]
  },
  {
   "cell_type": "code",
   "execution_count": 8,
   "id": "30023d11",
   "metadata": {
    "execution": {
     "iopub.execute_input": "2022-09-10T10:44:48.345092Z",
     "iopub.status.busy": "2022-09-10T10:44:48.343978Z",
     "iopub.status.idle": "2022-09-10T10:44:48.367407Z",
     "shell.execute_reply": "2022-09-10T10:44:48.366616Z"
    },
    "papermill": {
     "duration": 0.031924,
     "end_time": "2022-09-10T10:44:48.369691",
     "exception": false,
     "start_time": "2022-09-10T10:44:48.337767",
     "status": "completed"
    },
    "tags": []
   },
   "outputs": [
    {
     "data": {
      "text/html": [
       "<div>\n",
       "<style scoped>\n",
       "    .dataframe tbody tr th:only-of-type {\n",
       "        vertical-align: middle;\n",
       "    }\n",
       "\n",
       "    .dataframe tbody tr th {\n",
       "        vertical-align: top;\n",
       "    }\n",
       "\n",
       "    .dataframe thead th {\n",
       "        text-align: right;\n",
       "    }\n",
       "</style>\n",
       "<table border=\"1\" class=\"dataframe\">\n",
       "  <thead>\n",
       "    <tr style=\"text-align: right;\">\n",
       "      <th></th>\n",
       "      <th>TARGET</th>\n",
       "      <th>id</th>\n",
       "    </tr>\n",
       "  </thead>\n",
       "  <tbody>\n",
       "    <tr>\n",
       "      <th>0</th>\n",
       "      <td>0</td>\n",
       "      <td>0</td>\n",
       "    </tr>\n",
       "    <tr>\n",
       "      <th>1</th>\n",
       "      <td>0</td>\n",
       "      <td>1</td>\n",
       "    </tr>\n",
       "    <tr>\n",
       "      <th>2</th>\n",
       "      <td>0</td>\n",
       "      <td>2</td>\n",
       "    </tr>\n",
       "    <tr>\n",
       "      <th>3</th>\n",
       "      <td>0</td>\n",
       "      <td>3</td>\n",
       "    </tr>\n",
       "    <tr>\n",
       "      <th>4</th>\n",
       "      <td>0</td>\n",
       "      <td>4</td>\n",
       "    </tr>\n",
       "    <tr>\n",
       "      <th>...</th>\n",
       "      <td>...</td>\n",
       "      <td>...</td>\n",
       "    </tr>\n",
       "    <tr>\n",
       "      <th>110894</th>\n",
       "      <td>0</td>\n",
       "      <td>110894</td>\n",
       "    </tr>\n",
       "    <tr>\n",
       "      <th>110895</th>\n",
       "      <td>0</td>\n",
       "      <td>110895</td>\n",
       "    </tr>\n",
       "    <tr>\n",
       "      <th>110896</th>\n",
       "      <td>1</td>\n",
       "      <td>110896</td>\n",
       "    </tr>\n",
       "    <tr>\n",
       "      <th>110897</th>\n",
       "      <td>0</td>\n",
       "      <td>110897</td>\n",
       "    </tr>\n",
       "    <tr>\n",
       "      <th>110898</th>\n",
       "      <td>0</td>\n",
       "      <td>110898</td>\n",
       "    </tr>\n",
       "  </tbody>\n",
       "</table>\n",
       "<p>110899 rows × 2 columns</p>\n",
       "</div>"
      ],
      "text/plain": [
       "        TARGET      id\n",
       "0            0       0\n",
       "1            0       1\n",
       "2            0       2\n",
       "3            0       3\n",
       "4            0       4\n",
       "...        ...     ...\n",
       "110894       0  110894\n",
       "110895       0  110895\n",
       "110896       1  110896\n",
       "110897       0  110897\n",
       "110898       0  110898\n",
       "\n",
       "[110899 rows x 2 columns]"
      ]
     },
     "execution_count": 8,
     "metadata": {},
     "output_type": "execute_result"
    }
   ],
   "source": [
    "final_preds = pred_blend.argmax(axis=1)\n",
    "pred_csv = pd.DataFrame(final_preds.reshape(-1), columns=['TARGET'] )\n",
    "pred_csv['id'] = id_col\n",
    "pred_csv"
   ]
  },
  {
   "cell_type": "code",
   "execution_count": 9,
   "id": "d9c857f5",
   "metadata": {
    "execution": {
     "iopub.execute_input": "2022-09-10T10:44:48.382416Z",
     "iopub.status.busy": "2022-09-10T10:44:48.382039Z",
     "iopub.status.idle": "2022-09-10T10:44:48.498412Z",
     "shell.execute_reply": "2022-09-10T10:44:48.497154Z"
    },
    "papermill": {
     "duration": 0.125713,
     "end_time": "2022-09-10T10:44:48.500852",
     "exception": false,
     "start_time": "2022-09-10T10:44:48.375139",
     "status": "completed"
    },
    "tags": []
   },
   "outputs": [],
   "source": [
    "pred_csv.to_csv('submission.csv',index = False)"
   ]
  }
 ],
 "metadata": {
  "kernelspec": {
   "display_name": "Python 3",
   "language": "python",
   "name": "python3"
  },
  "language_info": {
   "codemirror_mode": {
    "name": "ipython",
    "version": 3
   },
   "file_extension": ".py",
   "mimetype": "text/x-python",
   "name": "python",
   "nbconvert_exporter": "python",
   "pygments_lexer": "ipython3",
   "version": "3.7.12"
  },
  "papermill": {
   "default_parameters": {},
   "duration": 35.931724,
   "end_time": "2022-09-10T10:44:51.508784",
   "environment_variables": {},
   "exception": null,
   "input_path": "__notebook__.ipynb",
   "output_path": "__notebook__.ipynb",
   "parameters": {},
   "start_time": "2022-09-10T10:44:15.577060",
   "version": "2.3.4"
  }
 },
 "nbformat": 4,
 "nbformat_minor": 5
}
