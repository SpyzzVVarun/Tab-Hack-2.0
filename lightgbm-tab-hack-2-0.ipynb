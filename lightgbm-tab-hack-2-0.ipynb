{
 "cells": [
  {
   "cell_type": "markdown",
   "id": "7953d1ce",
   "metadata": {
    "papermill": {
     "duration": 0.008426,
     "end_time": "2022-09-10T16:14:55.293608",
     "exception": false,
     "start_time": "2022-09-10T16:14:55.285182",
     "status": "completed"
    },
    "tags": []
   },
   "source": [
    "<h1 align='center'> ⚡ LightGBM Classifier Tab Hack 2.0  🚨</h1>"
   ]
  },
  {
   "cell_type": "markdown",
   "id": "e0ce5375",
   "metadata": {
    "papermill": {
     "duration": 0.006819,
     "end_time": "2022-09-10T16:14:55.307626",
     "exception": false,
     "start_time": "2022-09-10T16:14:55.300807",
     "status": "completed"
    },
    "tags": []
   },
   "source": [
    "This notebook is the LightGBM Classifier notebook as part of Tab Hack 2.0, a Machine Learning Hackathon organized by IITG.ai, The Artificial Intelligence Community of IIT Guwahati.\n",
    "\n",
    "\n",
    "For more such hackathons and everything AI, do follow IITG.ai on these socials:\n",
    "    \n",
    "* [Linkedin](https://www.linkedin.com/company/iitg-ai/)\n",
    "* [Website](https://www.iitg.ac.in/sa/ai/#/)\n",
    "* [Instagram](https://www.instagram.com/iitg.ai/)"
   ]
  },
  {
   "cell_type": "markdown",
   "id": "bf7070ae",
   "metadata": {
    "papermill": {
     "duration": 0.006674,
     "end_time": "2022-09-10T16:14:55.321640",
     "exception": false,
     "start_time": "2022-09-10T16:14:55.314966",
     "status": "completed"
    },
    "tags": []
   },
   "source": [
    "## 📦 Importing Libraries"
   ]
  },
  {
   "cell_type": "code",
   "execution_count": 1,
   "id": "fb79f3f7",
   "metadata": {
    "_cell_guid": "b1076dfc-b9ad-4769-8c92-a6c4dae69d19",
    "_uuid": "8f2839f25d086af736a60e9eeb907d3b93b6e0e5",
    "execution": {
     "iopub.execute_input": "2022-09-10T16:14:55.338276Z",
     "iopub.status.busy": "2022-09-10T16:14:55.337794Z",
     "iopub.status.idle": "2022-09-10T16:14:58.700354Z",
     "shell.execute_reply": "2022-09-10T16:14:58.698842Z"
    },
    "papermill": {
     "duration": 3.375043,
     "end_time": "2022-09-10T16:14:58.703659",
     "exception": false,
     "start_time": "2022-09-10T16:14:55.328616",
     "status": "completed"
    },
    "tags": []
   },
   "outputs": [
    {
     "data": {
      "text/html": [
       "<style type='text/css'>\n",
       ".datatable table.frame { margin-bottom: 0; }\n",
       ".datatable table.frame thead { border-bottom: none; }\n",
       ".datatable table.frame tr.coltypes td {  color: #FFFFFF;  line-height: 6px;  padding: 0 0.5em;}\n",
       ".datatable .bool    { background: #DDDD99; }\n",
       ".datatable .object  { background: #565656; }\n",
       ".datatable .int     { background: #5D9E5D; }\n",
       ".datatable .float   { background: #4040CC; }\n",
       ".datatable .str     { background: #CC4040; }\n",
       ".datatable .time    { background: #40CC40; }\n",
       ".datatable .row_index {  background: var(--jp-border-color3);  border-right: 1px solid var(--jp-border-color0);  color: var(--jp-ui-font-color3);  font-size: 9px;}\n",
       ".datatable .frame tbody td { text-align: left; }\n",
       ".datatable .frame tr.coltypes .row_index {  background: var(--jp-border-color0);}\n",
       ".datatable th:nth-child(2) { padding-left: 12px; }\n",
       ".datatable .hellipsis {  color: var(--jp-cell-editor-border-color);}\n",
       ".datatable .vellipsis {  background: var(--jp-layout-color0);  color: var(--jp-cell-editor-border-color);}\n",
       ".datatable .na {  color: var(--jp-cell-editor-border-color);  font-size: 80%;}\n",
       ".datatable .sp {  opacity: 0.25;}\n",
       ".datatable .footer { font-size: 9px; }\n",
       ".datatable .frame_dimensions {  background: var(--jp-border-color3);  border-top: 1px solid var(--jp-border-color0);  color: var(--jp-ui-font-color3);  display: inline-block;  opacity: 0.6;  padding: 1px 10px 1px 5px;}\n",
       "</style>\n"
      ],
      "text/plain": [
       "<IPython.core.display.HTML object>"
      ]
     },
     "metadata": {},
     "output_type": "display_data"
    }
   ],
   "source": [
    "# Basic Imports\n",
    "import os\n",
    "import time\n",
    "import pandas as pd\n",
    "import numpy as np\n",
    "import matplotlib.pyplot as plt\n",
    "%matplotlib inline\n",
    "import seaborn as sns\n",
    "import warnings\n",
    "warnings.filterwarnings('ignore')\n",
    "\n",
    "# Model + Sklearn imports\n",
    "import lightgbm as lgb\n",
    "from sklearn import preprocessing\n",
    "from sklearn.model_selection import StratifiedKFold, KFold\n",
    "from sklearn.metrics import f1_score, accuracy_score\n",
    "from imblearn.under_sampling import RandomUnderSampler\n",
    "\n",
    "# Optuna Imports\n",
    "import optuna\n",
    "from optuna import Trial, visualization"
   ]
  },
  {
   "cell_type": "markdown",
   "id": "c08401d6",
   "metadata": {
    "papermill": {
     "duration": 0.006864,
     "end_time": "2022-09-10T16:14:58.718099",
     "exception": false,
     "start_time": "2022-09-10T16:14:58.711235",
     "status": "completed"
    },
    "tags": []
   },
   "source": [
    "## 🔃 Data Loading"
   ]
  },
  {
   "cell_type": "code",
   "execution_count": 2,
   "id": "f2caa19e",
   "metadata": {
    "execution": {
     "iopub.execute_input": "2022-09-10T16:14:58.734420Z",
     "iopub.status.busy": "2022-09-10T16:14:58.733957Z",
     "iopub.status.idle": "2022-09-10T16:15:11.070558Z",
     "shell.execute_reply": "2022-09-10T16:15:11.069431Z"
    },
    "papermill": {
     "duration": 12.347903,
     "end_time": "2022-09-10T16:15:11.073289",
     "exception": false,
     "start_time": "2022-09-10T16:14:58.725386",
     "status": "completed"
    },
    "tags": []
   },
   "outputs": [],
   "source": [
    "train = pd.read_csv('../input/tab-hack-20/Week8_train.csv')\n",
    "test = pd.read_csv('../input/tab-hack-20/Week8_test.csv')\n",
    "id_col = test['id']"
   ]
  },
  {
   "cell_type": "code",
   "execution_count": 3,
   "id": "3e5fd470",
   "metadata": {
    "execution": {
     "iopub.execute_input": "2022-09-10T16:15:11.089802Z",
     "iopub.status.busy": "2022-09-10T16:15:11.089127Z",
     "iopub.status.idle": "2022-09-10T16:15:11.103444Z",
     "shell.execute_reply": "2022-09-10T16:15:11.102331Z"
    },
    "papermill": {
     "duration": 0.025741,
     "end_time": "2022-09-10T16:15:11.106381",
     "exception": false,
     "start_time": "2022-09-10T16:15:11.080640",
     "status": "completed"
    },
    "tags": []
   },
   "outputs": [
    {
     "name": "stdout",
     "output_type": "stream",
     "text": [
      "Percentage of Minority Class 24.093904908970874\n"
     ]
    }
   ],
   "source": [
    "# Class Imbalance\n",
    "perc = (train['TARGET'].value_counts()[1]/train['TARGET'].value_counts()[0])*100\n",
    "print(f'Percentage of Minority Class {perc}')"
   ]
  },
  {
   "cell_type": "code",
   "execution_count": 4,
   "id": "69defe7d",
   "metadata": {
    "execution": {
     "iopub.execute_input": "2022-09-10T16:15:11.122983Z",
     "iopub.status.busy": "2022-09-10T16:15:11.122587Z",
     "iopub.status.idle": "2022-09-10T16:15:11.129622Z",
     "shell.execute_reply": "2022-09-10T16:15:11.128347Z"
    },
    "papermill": {
     "duration": 0.018365,
     "end_time": "2022-09-10T16:15:11.132095",
     "exception": false,
     "start_time": "2022-09-10T16:15:11.113730",
     "status": "completed"
    },
    "tags": []
   },
   "outputs": [
    {
     "data": {
      "text/plain": [
       "(110899, 483)"
      ]
     },
     "execution_count": 4,
     "metadata": {},
     "output_type": "execute_result"
    }
   ],
   "source": [
    "# Large Dataset\n",
    "train.shape"
   ]
  },
  {
   "cell_type": "markdown",
   "id": "5270649b",
   "metadata": {
    "papermill": {
     "duration": 0.007044,
     "end_time": "2022-09-10T16:15:11.146582",
     "exception": false,
     "start_time": "2022-09-10T16:15:11.139538",
     "status": "completed"
    },
    "tags": []
   },
   "source": [
    "## ⚒ Data Preprocessing"
   ]
  },
  {
   "cell_type": "code",
   "execution_count": 5,
   "id": "a6156dca",
   "metadata": {
    "execution": {
     "iopub.execute_input": "2022-09-10T16:15:11.164118Z",
     "iopub.status.busy": "2022-09-10T16:15:11.163711Z",
     "iopub.status.idle": "2022-09-10T16:15:11.172904Z",
     "shell.execute_reply": "2022-09-10T16:15:11.171578Z"
    },
    "papermill": {
     "duration": 0.021229,
     "end_time": "2022-09-10T16:15:11.175176",
     "exception": false,
     "start_time": "2022-09-10T16:15:11.153947",
     "status": "completed"
    },
    "tags": []
   },
   "outputs": [],
   "source": [
    "''' Utils '''\n",
    "def get_constant_features(df, threshold=0.99, dropna=False):\n",
    "    '''\n",
    "    For a given dataframe, identify the constant and quasi constant features.\n",
    "    To get all the constant & quasi constant features in a list - constant_features_df['Var'].to_list()\n",
    "    \n",
    "    Parameters:\n",
    "    -----------\n",
    "        df: 'dataframe'\n",
    "        threshold: 'float'. default = 0.99\n",
    "        dropna: 'bool'. default = false\n",
    "        \n",
    "    Returns:\n",
    "    --------\n",
    "        constant_features_df: 'dataframe'\n",
    "    '''\n",
    "    constant_features = []\n",
    "    constant_features_df = pd.DataFrame(columns=['Desc', 'Var', 'Value', 'Perc'])\n",
    "    all_vars = list(df.columns)\n",
    "    i=0\n",
    "    for var in all_vars:\n",
    "        s = df[var].value_counts(normalize=True, dropna=dropna)\n",
    "        value = s.index[0]\n",
    "        perc = s.iloc[0]\n",
    "    \n",
    "        if perc==1:\n",
    "            constant_features_df.loc[i] = ['Constant', var, value, 100*perc]\n",
    "\n",
    "        elif perc>threshold:\n",
    "            constant_features_df.loc[i] = ['Quasi Constant', var, value, 100*perc]\n",
    "    \n",
    "        i=i+1\n",
    "    \n",
    "    constant_features_df = constant_features_df.sort_values(by='Perc', ascending=False, ignore_index=True) \n",
    "\n",
    "    return constant_features_df"
   ]
  },
  {
   "cell_type": "markdown",
   "id": "71c0ce01",
   "metadata": {
    "papermill": {
     "duration": 0.007147,
     "end_time": "2022-09-10T16:15:11.189949",
     "exception": false,
     "start_time": "2022-09-10T16:15:11.182802",
     "status": "completed"
    },
    "tags": []
   },
   "source": [
    "### 🔻 Reducing Memory Usage"
   ]
  },
  {
   "cell_type": "code",
   "execution_count": 6,
   "id": "a49999c1",
   "metadata": {
    "execution": {
     "iopub.execute_input": "2022-09-10T16:15:11.207109Z",
     "iopub.status.busy": "2022-09-10T16:15:11.206282Z",
     "iopub.status.idle": "2022-09-10T16:15:47.888015Z",
     "shell.execute_reply": "2022-09-10T16:15:47.886721Z"
    },
    "papermill": {
     "duration": 36.693836,
     "end_time": "2022-09-10T16:15:47.891262",
     "exception": false,
     "start_time": "2022-09-10T16:15:11.197426",
     "status": "completed"
    },
    "tags": []
   },
   "outputs": [],
   "source": [
    "# Datatype Conversions\n",
    "for i in train.columns:\n",
    "    if train[i].dtypes == 'float64':\n",
    "        train[i] = train[i].astype('float32')\n",
    "    elif train[i].dtypes == 'int64':\n",
    "        train[i] = train[i].astype('int32')\n",
    "        \n",
    "for i in test.columns:\n",
    "    if test[i].dtypes == 'float64':\n",
    "        test[i] = test[i].astype('float32')\n",
    "    elif test[i].dtypes == 'int64':\n",
    "        test[i] = test[i].astype('int32')"
   ]
  },
  {
   "cell_type": "markdown",
   "id": "6845e497",
   "metadata": {
    "papermill": {
     "duration": 0.007997,
     "end_time": "2022-09-10T16:15:47.907530",
     "exception": false,
     "start_time": "2022-09-10T16:15:47.899533",
     "status": "completed"
    },
    "tags": []
   },
   "source": [
    "### 💧 Dropping Constant Features"
   ]
  },
  {
   "cell_type": "code",
   "execution_count": 7,
   "id": "284b96e2",
   "metadata": {
    "execution": {
     "iopub.execute_input": "2022-09-10T16:15:47.925102Z",
     "iopub.status.busy": "2022-09-10T16:15:47.924638Z",
     "iopub.status.idle": "2022-09-10T16:15:49.397705Z",
     "shell.execute_reply": "2022-09-10T16:15:49.396381Z"
    },
    "papermill": {
     "duration": 1.485274,
     "end_time": "2022-09-10T16:15:49.400610",
     "exception": false,
     "start_time": "2022-09-10T16:15:47.915336",
     "status": "completed"
    },
    "tags": []
   },
   "outputs": [],
   "source": [
    "constant_features = get_constant_features(train, threshold=1, dropna=False)\n",
    "lst = constant_features['Var'].to_list()\n",
    "# lst.append('id')\n",
    "train.drop(lst,axis = 'columns',inplace = True)\n",
    "test.drop(lst,axis = 'columns',inplace = True)"
   ]
  },
  {
   "cell_type": "markdown",
   "id": "1dde2b88",
   "metadata": {
    "papermill": {
     "duration": 0.007348,
     "end_time": "2022-09-10T16:15:49.415616",
     "exception": false,
     "start_time": "2022-09-10T16:15:49.408268",
     "status": "completed"
    },
    "tags": []
   },
   "source": [
    "### 🏹 Missing Value Imputation"
   ]
  },
  {
   "cell_type": "code",
   "execution_count": 8,
   "id": "bbd1189d",
   "metadata": {
    "execution": {
     "iopub.execute_input": "2022-09-10T16:15:49.432786Z",
     "iopub.status.busy": "2022-09-10T16:15:49.432337Z",
     "iopub.status.idle": "2022-09-10T16:15:49.487236Z",
     "shell.execute_reply": "2022-09-10T16:15:49.485851Z"
    },
    "papermill": {
     "duration": 0.067248,
     "end_time": "2022-09-10T16:15:49.490514",
     "exception": false,
     "start_time": "2022-09-10T16:15:49.423266",
     "status": "completed"
    },
    "tags": []
   },
   "outputs": [],
   "source": [
    "train['V_434'] = train['V_434'].fillna('Private')\n",
    "train['V_301'] = train['V_301'].fillna('Private')\n",
    "train['V_304'] = train['V_304'].fillna('U')\n",
    "test['V_434'] = test['V_434'].fillna('Private')\n",
    "test['V_301'] = test['V_301'].fillna('Private')\n",
    "test['V_304'] = test['V_304'].fillna('U')"
   ]
  },
  {
   "cell_type": "markdown",
   "id": "0f42536f",
   "metadata": {
    "papermill": {
     "duration": 0.007265,
     "end_time": "2022-09-10T16:15:49.505497",
     "exception": false,
     "start_time": "2022-09-10T16:15:49.498232",
     "status": "completed"
    },
    "tags": []
   },
   "source": [
    "### 😢 Dropping Some features with 0 MI scores"
   ]
  },
  {
   "cell_type": "code",
   "execution_count": 9,
   "id": "05f36c77",
   "metadata": {
    "execution": {
     "iopub.execute_input": "2022-09-10T16:15:49.522945Z",
     "iopub.status.busy": "2022-09-10T16:15:49.521777Z",
     "iopub.status.idle": "2022-09-10T16:15:49.527793Z",
     "shell.execute_reply": "2022-09-10T16:15:49.526811Z"
    },
    "papermill": {
     "duration": 0.017719,
     "end_time": "2022-09-10T16:15:49.530637",
     "exception": false,
     "start_time": "2022-09-10T16:15:49.512918",
     "status": "completed"
    },
    "tags": []
   },
   "outputs": [],
   "source": [
    "# from sklearn.feature_selection import mutual_info_classif\n",
    "# X_train = train.drop(columns='TARGET').copy()\n",
    "# y_train = train['TARGET']\n",
    "# mi = mutual_info_classif(X_train, y_train, random_state=2021)\n",
    "# mi = pd.Series(mi)\n",
    "# mi.index = X_train.columns\n",
    "# mi = mi.sort_values(ascending=False)\n",
    "# df = pd.DataFrame(mi, columns = ['mi_value'])\n",
    "# lst = df[df['mi_value']==0].index.tolist()"
   ]
  },
  {
   "cell_type": "code",
   "execution_count": 10,
   "id": "ac3e8657",
   "metadata": {
    "execution": {
     "iopub.execute_input": "2022-09-10T16:15:49.547682Z",
     "iopub.status.busy": "2022-09-10T16:15:49.547252Z",
     "iopub.status.idle": "2022-09-10T16:15:49.636343Z",
     "shell.execute_reply": "2022-09-10T16:15:49.635163Z"
    },
    "papermill": {
     "duration": 0.101083,
     "end_time": "2022-09-10T16:15:49.639249",
     "exception": false,
     "start_time": "2022-09-10T16:15:49.538166",
     "status": "completed"
    },
    "tags": []
   },
   "outputs": [],
   "source": [
    "# Saved the list here as the MI value finding process takes some time\n",
    "lst = ['V_357','V_362','V_354','V_365','V_359','V_360','V_353','V_348','V_1','V_412','V_368','V_369','V_436','V_437','V_438', 'V_439','V_441','V_442','V_444','V_448','V_451','V_452','V_453','V_454','V_456','V_457','V_458','V_461','V_466','V_467','V_469','V_470','V_474','V_477','V_479','V_480','V_481','V_429','V_426','V_424','V_390','V_370','V_371','V_374','V_375','V_376','V_377','V_378','V_384','V_385','V_387','V_388','V_392','V_423','V_394','V_396','V_397','V_398', 'V_399','V_402','V_408','V_342','V_418', 'V_420', 'V_421', 'V_343','V_240','V_341','V_108','V_118','V_116','V_114','V_113', 'V_111','V_110','V_106','V_170','V_104','V_102','V_100', 'V_99', 'V_93', 'V_92','V_119','V_124','V_126','V_127','V_131','V_140','V_141','V_143','V_144','V_146','V_148', 'V_152','V_153','V_156', 'V_165', 'V_167', 'V_168', 'V_91', 'V_90', 'V_87', 'V_43', 'V_3', 'V_6', 'V_7', 'V_10', 'V_12', 'V_14', 'V_19', 'V_25', 'V_28', 'V_32', 'V_33', 'V_35', 'V_37', 'V_38', 'V_44', 'V_86', 'V_49', 'V_53', 'V_56', 'V_62', 'V_63', 'V_64', 'V_69', 'V_71', 'V_73', 'V_74', 'V_75', 'V_78', 'V_80', 'V_81', 'V_169', 'V_171', 'V_339', 'V_270', 'V_288', 'V_286', 'V_284', 'V_283', 'V_281', 'V_272','V_269','V_172','V_263','V_262','V_260','V_258','V_253','V_250','V_292','V_295','V_296','V_299','V_300','V_306','V_309','V_310','V_315', 'V_319','V_321','V_323','V_324','V_328','V_329','V_330','V_331','V_249','V_244','V_242','V_204','V_175','V_177','V_178','V_180','V_182','V_186','V_187','V_188','V_192','V_196','V_197','V_198','V_200','V_202','V_205','V_2','V_208','V_209','V_213','V_214','V_217','V_219', 'V_221','V_223','V_224','V_226','V_230','V_231','V_235','V_239','V_482']\n",
    "train.drop(lst,axis = 'columns',inplace = True)\n",
    "test.drop(lst,axis = 'columns',inplace = True)"
   ]
  },
  {
   "cell_type": "markdown",
   "id": "49fba9c3",
   "metadata": {
    "papermill": {
     "duration": 0.007797,
     "end_time": "2022-09-10T16:15:49.655246",
     "exception": false,
     "start_time": "2022-09-10T16:15:49.647449",
     "status": "completed"
    },
    "tags": []
   },
   "source": [
    "### 🏷 Label Encoding the Categorical Features"
   ]
  },
  {
   "cell_type": "code",
   "execution_count": 11,
   "id": "9bfc516e",
   "metadata": {
    "execution": {
     "iopub.execute_input": "2022-09-10T16:15:49.672746Z",
     "iopub.status.busy": "2022-09-10T16:15:49.672349Z",
     "iopub.status.idle": "2022-09-10T16:15:51.497153Z",
     "shell.execute_reply": "2022-09-10T16:15:51.496052Z"
    },
    "papermill": {
     "duration": 1.836755,
     "end_time": "2022-09-10T16:15:51.499940",
     "exception": false,
     "start_time": "2022-09-10T16:15:49.663185",
     "status": "completed"
    },
    "tags": []
   },
   "outputs": [],
   "source": [
    "object_cols = list(train.dtypes[train.dtypes == 'object'].keys())\n",
    "le = preprocessing.LabelEncoder()\n",
    "for col in object_cols:\n",
    "    temp = pd.concat([train,test])\n",
    "    le.fit(temp[col])\n",
    "    train[col] = le.transform(train[col])\n",
    "    test[col] = le.transform(test[col])"
   ]
  },
  {
   "cell_type": "markdown",
   "id": "cf05c0c5",
   "metadata": {
    "papermill": {
     "duration": 0.007151,
     "end_time": "2022-09-10T16:15:51.514646",
     "exception": false,
     "start_time": "2022-09-10T16:15:51.507495",
     "status": "completed"
    },
    "tags": []
   },
   "source": [
    "## 👨‍🔬 Feature Engineering Attempt"
   ]
  },
  {
   "cell_type": "code",
   "execution_count": 12,
   "id": "914fa0f3",
   "metadata": {
    "execution": {
     "iopub.execute_input": "2022-09-10T16:15:51.531548Z",
     "iopub.status.busy": "2022-09-10T16:15:51.531162Z",
     "iopub.status.idle": "2022-09-10T16:15:53.329225Z",
     "shell.execute_reply": "2022-09-10T16:15:53.327877Z"
    },
    "papermill": {
     "duration": 1.810037,
     "end_time": "2022-09-10T16:15:53.332159",
     "exception": false,
     "start_time": "2022-09-10T16:15:51.522122",
     "status": "completed"
    },
    "tags": []
   },
   "outputs": [],
   "source": [
    "for col in test.columns:\n",
    "    if col not in list(test.dtypes[test.dtypes == 'object'].keys()):\n",
    "        if train[col].quantile(0.75)==0:\n",
    "            train[f'{col}_cool'] = np.where(train[col]>0,1,0)\n",
    "for col in test.columns:\n",
    "    if col not in list(test.dtypes[test.dtypes == 'object'].keys()):\n",
    "        if test[col].quantile(0.75)==0:\n",
    "            test[f'{col}_cool'] = np.where(test[col]>0,1,0)\n",
    "\n",
    "lst = ['V_434','V_301']\n",
    "for col in lst:\n",
    "    cool =train[col]\n",
    "    temp = cool.value_counts().to_dict()\n",
    "    train[f'{col}_counts'] = train[col].map(temp)\n",
    "    test[f'{col}_counts'] = test[col].map(temp)"
   ]
  },
  {
   "cell_type": "markdown",
   "id": "a3a87758",
   "metadata": {
    "papermill": {
     "duration": 0.007274,
     "end_time": "2022-09-10T16:15:53.347471",
     "exception": false,
     "start_time": "2022-09-10T16:15:53.340197",
     "status": "completed"
    },
    "tags": []
   },
   "source": [
    "### ❎ Creating folds for Cross Validation"
   ]
  },
  {
   "cell_type": "code",
   "execution_count": 13,
   "id": "2da8043a",
   "metadata": {
    "execution": {
     "iopub.execute_input": "2022-09-10T16:15:53.364782Z",
     "iopub.status.busy": "2022-09-10T16:15:53.364327Z",
     "iopub.status.idle": "2022-09-10T16:15:53.627529Z",
     "shell.execute_reply": "2022-09-10T16:15:53.626257Z"
    },
    "papermill": {
     "duration": 0.275429,
     "end_time": "2022-09-10T16:15:53.630324",
     "exception": false,
     "start_time": "2022-09-10T16:15:53.354895",
     "status": "completed"
    },
    "tags": []
   },
   "outputs": [],
   "source": [
    "feature_cols = [col for col in train.columns.tolist() if col not in ['TARGET']]\n",
    "target_cols = ['TARGET']\n",
    "\n",
    "# Stratified KFold due to class imbalance\n",
    "skf = StratifiedKFold(n_splits=5, random_state=42, shuffle=True)\n",
    "\n",
    "for i, (trn, val) in enumerate(skf.split(train[feature_cols], train[target_cols])):\n",
    "    train.loc[val, 'kfold'] = i\n",
    "train['kfold'] = train['kfold'].astype(int)"
   ]
  },
  {
   "cell_type": "markdown",
   "id": "2879fafd",
   "metadata": {
    "papermill": {
     "duration": 0.007183,
     "end_time": "2022-09-10T16:15:53.645444",
     "exception": false,
     "start_time": "2022-09-10T16:15:53.638261",
     "status": "completed"
    },
    "tags": []
   },
   "source": [
    "## 🚂 Model Training"
   ]
  },
  {
   "cell_type": "code",
   "execution_count": 14,
   "id": "b0b5f61a",
   "metadata": {
    "execution": {
     "iopub.execute_input": "2022-09-10T16:15:53.662494Z",
     "iopub.status.busy": "2022-09-10T16:15:53.662108Z",
     "iopub.status.idle": "2022-09-10T16:16:20.105459Z",
     "shell.execute_reply": "2022-09-10T16:16:20.103586Z"
    },
    "papermill": {
     "duration": 26.455368,
     "end_time": "2022-09-10T16:16:20.108264",
     "exception": false,
     "start_time": "2022-09-10T16:15:53.652896",
     "status": "completed"
    },
    "tags": []
   },
   "outputs": [
    {
     "name": "stdout",
     "output_type": "stream",
     "text": [
      "\n",
      "Starting FOLD: 0\n",
      "[LightGBM] [Warning] bagging_freq is set=10, subsample_freq=0 will be ignored. Current value: bagging_freq=10\n",
      "[LightGBM] [Warning] min_data_in_leaf is set=40, min_child_samples=20 will be ignored. Current value: min_data_in_leaf=40\n",
      "[LightGBM] [Warning] min_gain_to_split is set=5, min_split_gain=0.0 will be ignored. Current value: min_gain_to_split=5\n",
      "[LightGBM] [Warning] bagging_fraction is set=0.8, subsample=1.0 will be ignored. Current value: bagging_fraction=0.8\n",
      "Training Accuracy Score -  0.7085553548151028\n",
      "Training F1 Score -  0.6472020051791132\n",
      "Validation Accuracy Score -  0.8053651938683498\n",
      "Validation F1 Score -  0.6448593549013367\n",
      "FOLD 0 completed in 5.340300559997559 seconds\n",
      "\n",
      "Starting FOLD: 1\n",
      "[LightGBM] [Warning] bagging_freq is set=10, subsample_freq=0 will be ignored. Current value: bagging_freq=10\n",
      "[LightGBM] [Warning] min_data_in_leaf is set=40, min_child_samples=20 will be ignored. Current value: min_data_in_leaf=40\n",
      "[LightGBM] [Warning] min_gain_to_split is set=5, min_split_gain=0.0 will be ignored. Current value: min_gain_to_split=5\n",
      "[LightGBM] [Warning] bagging_fraction is set=0.8, subsample=1.0 will be ignored. Current value: bagging_fraction=0.8\n",
      "Training Accuracy Score -  0.7091270839527065\n",
      "Training F1 Score -  0.6466570788096462\n",
      "Validation Accuracy Score -  0.8127592425608656\n",
      "Validation F1 Score -  0.6547499249210207\n",
      "FOLD 1 completed in 6.1139304637908936 seconds\n",
      "\n",
      "Starting FOLD: 2\n",
      "[LightGBM] [Warning] bagging_freq is set=10, subsample_freq=0 will be ignored. Current value: bagging_freq=10\n",
      "[LightGBM] [Warning] min_data_in_leaf is set=40, min_child_samples=20 will be ignored. Current value: min_data_in_leaf=40\n",
      "[LightGBM] [Warning] min_gain_to_split is set=5, min_split_gain=0.0 will be ignored. Current value: min_gain_to_split=5\n",
      "[LightGBM] [Warning] bagging_fraction is set=0.8, subsample=1.0 will be ignored. Current value: bagging_fraction=0.8\n",
      "Training Accuracy Score -  0.7055460263007433\n",
      "Training F1 Score -  0.6438726802957588\n",
      "Validation Accuracy Score -  0.8101893597835889\n",
      "Validation F1 Score -  0.6585870773370774\n",
      "FOLD 2 completed in 4.850072860717773 seconds\n",
      "\n",
      "Starting FOLD: 3\n",
      "[LightGBM] [Warning] bagging_freq is set=10, subsample_freq=0 will be ignored. Current value: bagging_freq=10\n",
      "[LightGBM] [Warning] min_data_in_leaf is set=40, min_child_samples=20 will be ignored. Current value: min_data_in_leaf=40\n",
      "[LightGBM] [Warning] min_gain_to_split is set=5, min_split_gain=0.0 will be ignored. Current value: min_gain_to_split=5\n",
      "[LightGBM] [Warning] bagging_fraction is set=0.8, subsample=1.0 will be ignored. Current value: bagging_fraction=0.8\n",
      "Training Accuracy Score -  0.707833047455689\n",
      "Training F1 Score -  0.6481217242152636\n",
      "Validation Accuracy Score -  0.8061767357980162\n",
      "Validation F1 Score -  0.6505759236220676\n",
      "FOLD 3 completed in 5.163656949996948 seconds\n",
      "\n",
      "Starting FOLD: 4\n",
      "[LightGBM] [Warning] bagging_freq is set=10, subsample_freq=0 will be ignored. Current value: bagging_freq=10\n",
      "[LightGBM] [Warning] min_data_in_leaf is set=40, min_child_samples=20 will be ignored. Current value: min_data_in_leaf=40\n",
      "[LightGBM] [Warning] min_gain_to_split is set=5, min_split_gain=0.0 will be ignored. Current value: min_gain_to_split=5\n",
      "[LightGBM] [Warning] bagging_fraction is set=0.8, subsample=1.0 will be ignored. Current value: bagging_fraction=0.8\n",
      "Training Accuracy Score -  0.7068630365677956\n",
      "Training F1 Score -  0.6455620503853254\n",
      "Validation Accuracy Score -  0.8083322061409441\n",
      "Validation F1 Score -  0.6559650527984372\n",
      "FOLD 4 completed in 4.952067613601685 seconds\n"
     ]
    }
   ],
   "source": [
    "def run_training():\n",
    "    oof = np.zeros((train.shape[0], 2))\n",
    "    pred = np.zeros((test.shape[0], 2))\n",
    "    \n",
    "    for fold in range(5):\n",
    "        print(f\"\\nStarting FOLD: {fold}\")\n",
    "        start = time.time()\n",
    "        \n",
    "        trn_idx = train['kfold'] != fold\n",
    "        val_idx = train['kfold'] == fold\n",
    "        trn = train.loc[trn_idx, :]\n",
    "        val = train.loc[val_idx, :]\n",
    "\n",
    "        xtr, ytr = trn[feature_cols].values, trn[target_cols].values\n",
    "        xval, yval = val[feature_cols].values, val[target_cols].values\n",
    "        xtest = test[feature_cols].values\n",
    "        \n",
    "        #42,420,0 - non gpu\n",
    "        undersample = RandomUnderSampler(sampling_strategy = 0.65,random_state = 0)\n",
    "        xtr,ytr = undersample.fit_resample(xtr,ytr)\n",
    "        \n",
    "        \n",
    "        model = lgb.LGBMClassifier(\n",
    "                                   boosting_type = 'dart',\n",
    "                                   silent=True,\n",
    "                                   objective = 'binary',\n",
    "                                   metric='auc',\n",
    "                                   n_estimators = 100,\n",
    "                                    num_leaves = 65,\n",
    "                                   learning_rate =  0.15,\n",
    "                                    min_gain_to_split = 5,\n",
    "                                   bagging_freq = 10,\n",
    "                                   bagging_fraction =  0.80,\n",
    "                                   n_jobs = -1,\n",
    "                                   min_data_in_leaf= 40)\n",
    "        \n",
    "        model.fit(xtr, ytr.reshape(-1,))\n",
    "        print(\"Training Accuracy Score - \", accuracy_score(ytr, model.predict(xtr)))\n",
    "        print(\"Training F1 Score - \", f1_score(ytr, model.predict(xtr), average='macro'))\n",
    "        \n",
    "        print(\"Validation Accuracy Score - \", accuracy_score(yval, model.predict(xval)))\n",
    "        print(\"Validation F1 Score - \", f1_score(yval, model.predict(xval), average='macro'))\n",
    "        \n",
    "        oof[val_idx, :] += model.predict_proba(xval)\n",
    "        \n",
    "        # Test preds\n",
    "        pred += model.predict_proba(xtest)/5\n",
    "        \n",
    "        print(f\"FOLD {fold} completed in {time.time()-start} seconds\")\n",
    "        \n",
    "    return oof, pred\n",
    "\n",
    "oof, pred = run_training()"
   ]
  },
  {
   "cell_type": "code",
   "execution_count": 15,
   "id": "7d9c3753",
   "metadata": {
    "execution": {
     "iopub.execute_input": "2022-09-10T16:16:20.128856Z",
     "iopub.status.busy": "2022-09-10T16:16:20.127554Z",
     "iopub.status.idle": "2022-09-10T16:16:20.183043Z",
     "shell.execute_reply": "2022-09-10T16:16:20.181632Z"
    },
    "papermill": {
     "duration": 0.068532,
     "end_time": "2022-09-10T16:16:20.185907",
     "exception": false,
     "start_time": "2022-09-10T16:16:20.117375",
     "status": "completed"
    },
    "tags": []
   },
   "outputs": [
    {
     "data": {
      "text/plain": [
       "0.6529750791361038"
      ]
     },
     "execution_count": 15,
     "metadata": {},
     "output_type": "execute_result"
    }
   ],
   "source": [
    "def find_oof_score(oof):\n",
    "    predictions = oof.argmax(axis=1)\n",
    "    return f1_score(train[target_cols], predictions, average='macro')\n",
    "find_oof_score(oof)"
   ]
  },
  {
   "cell_type": "markdown",
   "id": "36bd1806",
   "metadata": {
    "papermill": {
     "duration": 0.008841,
     "end_time": "2022-09-10T16:16:20.204550",
     "exception": false,
     "start_time": "2022-09-10T16:16:20.195709",
     "status": "completed"
    },
    "tags": []
   },
   "source": [
    "## 📝 Submission"
   ]
  },
  {
   "cell_type": "code",
   "execution_count": 16,
   "id": "d62984f9",
   "metadata": {
    "execution": {
     "iopub.execute_input": "2022-09-10T16:16:20.224578Z",
     "iopub.status.busy": "2022-09-10T16:16:20.224170Z",
     "iopub.status.idle": "2022-09-10T16:16:20.243427Z",
     "shell.execute_reply": "2022-09-10T16:16:20.242445Z"
    },
    "papermill": {
     "duration": 0.032193,
     "end_time": "2022-09-10T16:16:20.245764",
     "exception": false,
     "start_time": "2022-09-10T16:16:20.213571",
     "status": "completed"
    },
    "tags": []
   },
   "outputs": [
    {
     "data": {
      "text/html": [
       "<div>\n",
       "<style scoped>\n",
       "    .dataframe tbody tr th:only-of-type {\n",
       "        vertical-align: middle;\n",
       "    }\n",
       "\n",
       "    .dataframe tbody tr th {\n",
       "        vertical-align: top;\n",
       "    }\n",
       "\n",
       "    .dataframe thead th {\n",
       "        text-align: right;\n",
       "    }\n",
       "</style>\n",
       "<table border=\"1\" class=\"dataframe\">\n",
       "  <thead>\n",
       "    <tr style=\"text-align: right;\">\n",
       "      <th></th>\n",
       "      <th>TARGET</th>\n",
       "      <th>id</th>\n",
       "    </tr>\n",
       "  </thead>\n",
       "  <tbody>\n",
       "    <tr>\n",
       "      <th>0</th>\n",
       "      <td>0</td>\n",
       "      <td>0</td>\n",
       "    </tr>\n",
       "    <tr>\n",
       "      <th>1</th>\n",
       "      <td>0</td>\n",
       "      <td>1</td>\n",
       "    </tr>\n",
       "    <tr>\n",
       "      <th>2</th>\n",
       "      <td>0</td>\n",
       "      <td>2</td>\n",
       "    </tr>\n",
       "    <tr>\n",
       "      <th>3</th>\n",
       "      <td>0</td>\n",
       "      <td>3</td>\n",
       "    </tr>\n",
       "    <tr>\n",
       "      <th>4</th>\n",
       "      <td>0</td>\n",
       "      <td>4</td>\n",
       "    </tr>\n",
       "    <tr>\n",
       "      <th>...</th>\n",
       "      <td>...</td>\n",
       "      <td>...</td>\n",
       "    </tr>\n",
       "    <tr>\n",
       "      <th>110894</th>\n",
       "      <td>0</td>\n",
       "      <td>110894</td>\n",
       "    </tr>\n",
       "    <tr>\n",
       "      <th>110895</th>\n",
       "      <td>0</td>\n",
       "      <td>110895</td>\n",
       "    </tr>\n",
       "    <tr>\n",
       "      <th>110896</th>\n",
       "      <td>1</td>\n",
       "      <td>110896</td>\n",
       "    </tr>\n",
       "    <tr>\n",
       "      <th>110897</th>\n",
       "      <td>0</td>\n",
       "      <td>110897</td>\n",
       "    </tr>\n",
       "    <tr>\n",
       "      <th>110898</th>\n",
       "      <td>0</td>\n",
       "      <td>110898</td>\n",
       "    </tr>\n",
       "  </tbody>\n",
       "</table>\n",
       "<p>110899 rows × 2 columns</p>\n",
       "</div>"
      ],
      "text/plain": [
       "        TARGET      id\n",
       "0            0       0\n",
       "1            0       1\n",
       "2            0       2\n",
       "3            0       3\n",
       "4            0       4\n",
       "...        ...     ...\n",
       "110894       0  110894\n",
       "110895       0  110895\n",
       "110896       1  110896\n",
       "110897       0  110897\n",
       "110898       0  110898\n",
       "\n",
       "[110899 rows x 2 columns]"
      ]
     },
     "execution_count": 16,
     "metadata": {},
     "output_type": "execute_result"
    }
   ],
   "source": [
    "final_preds = pred.argmax(axis=1)\n",
    "pred_csv = pd.DataFrame(final_preds.reshape(-1), columns=['TARGET'] )\n",
    "pred_csv['id'] = id_col\n",
    "pred_csv"
   ]
  },
  {
   "cell_type": "code",
   "execution_count": 17,
   "id": "176b4a52",
   "metadata": {
    "execution": {
     "iopub.execute_input": "2022-09-10T16:16:20.266727Z",
     "iopub.status.busy": "2022-09-10T16:16:20.265744Z",
     "iopub.status.idle": "2022-09-10T16:16:20.387028Z",
     "shell.execute_reply": "2022-09-10T16:16:20.386064Z"
    },
    "papermill": {
     "duration": 0.134683,
     "end_time": "2022-09-10T16:16:20.389869",
     "exception": false,
     "start_time": "2022-09-10T16:16:20.255186",
     "status": "completed"
    },
    "tags": []
   },
   "outputs": [],
   "source": [
    "pred_csv.to_csv('submission.csv',index = False)\n",
    "np.save('oof_lgb.npy', oof)\n",
    "np.save('pred_lgb.npy', pred)"
   ]
  }
 ],
 "metadata": {
  "kernelspec": {
   "display_name": "Python 3",
   "language": "python",
   "name": "python3"
  },
  "language_info": {
   "codemirror_mode": {
    "name": "ipython",
    "version": 3
   },
   "file_extension": ".py",
   "mimetype": "text/x-python",
   "name": "python",
   "nbconvert_exporter": "python",
   "pygments_lexer": "ipython3",
   "version": "3.7.12"
  },
  "papermill": {
   "default_parameters": {},
   "duration": 96.350145,
   "end_time": "2022-09-10T16:16:21.424239",
   "environment_variables": {},
   "exception": null,
   "input_path": "__notebook__.ipynb",
   "output_path": "__notebook__.ipynb",
   "parameters": {},
   "start_time": "2022-09-10T16:14:45.074094",
   "version": "2.3.4"
  }
 },
 "nbformat": 4,
 "nbformat_minor": 5
}
