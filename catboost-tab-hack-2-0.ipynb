{
 "cells": [
  {
   "cell_type": "markdown",
   "id": "8a299147",
   "metadata": {
    "papermill": {
     "duration": 0.014311,
     "end_time": "2022-09-11T05:58:35.232627",
     "exception": false,
     "start_time": "2022-09-11T05:58:35.218316",
     "status": "completed"
    },
    "tags": []
   },
   "source": [
    "<h1 align='center'> 🐈 CatBoost Classifier Tab Hack 2.0 🐱‍🏍</h1>"
   ]
  },
  {
   "cell_type": "markdown",
   "id": "9e0d8b87",
   "metadata": {
    "papermill": {
     "duration": 0.007183,
     "end_time": "2022-09-11T05:58:35.252296",
     "exception": false,
     "start_time": "2022-09-11T05:58:35.245113",
     "status": "completed"
    },
    "tags": []
   },
   "source": [
    "This notebook is the CatBoost Classifier notebook as part of Tab Hack 2.0, a Machine Learning Hackathon organized by IITG.ai, The Artificial Intelligence Community of IIT Guwahati.\n",
    "\n",
    "\n",
    "For more such hackathons and everything AI, do follow IITG.ai on these socials:\n",
    "    \n",
    "* [Linkedin](https://www.linkedin.com/company/iitg-ai/)\n",
    "* [Website](https://www.iitg.ac.in/sa/ai/#/)\n",
    "* [Instagram](https://www.instagram.com/iitg.ai/)"
   ]
  },
  {
   "cell_type": "markdown",
   "id": "065378e2",
   "metadata": {
    "papermill": {
     "duration": 0.007438,
     "end_time": "2022-09-11T05:58:35.266976",
     "exception": false,
     "start_time": "2022-09-11T05:58:35.259538",
     "status": "completed"
    },
    "tags": []
   },
   "source": [
    "## 📦 Importing Libraries"
   ]
  },
  {
   "cell_type": "code",
   "execution_count": 1,
   "id": "1ae453a4",
   "metadata": {
    "_cell_guid": "b1076dfc-b9ad-4769-8c92-a6c4dae69d19",
    "_uuid": "8f2839f25d086af736a60e9eeb907d3b93b6e0e5",
    "execution": {
     "iopub.execute_input": "2022-09-11T05:58:35.284548Z",
     "iopub.status.busy": "2022-09-11T05:58:35.283456Z",
     "iopub.status.idle": "2022-09-11T05:58:37.624472Z",
     "shell.execute_reply": "2022-09-11T05:58:37.623271Z"
    },
    "papermill": {
     "duration": 2.353526,
     "end_time": "2022-09-11T05:58:37.628061",
     "exception": false,
     "start_time": "2022-09-11T05:58:35.274535",
     "status": "completed"
    },
    "tags": []
   },
   "outputs": [],
   "source": [
    "import pandas as pd\n",
    "import numpy as np\n",
    "import matplotlib.pyplot as plt\n",
    "%matplotlib inline\n",
    "import seaborn as sns\n",
    "import warnings\n",
    "warnings.filterwarnings('ignore')\n",
    "from time import time\n",
    "\n",
    " \n",
    "import catboost\n",
    "from sklearn import preprocessing\n",
    "from sklearn.model_selection import StratifiedKFold, KFold\n",
    "from sklearn.metrics import f1_score, accuracy_score\n",
    "from imblearn.under_sampling import RandomUnderSampler\n",
    "from sklearn.metrics import f1_score\n",
    "\n",
    "# Optuna Imports\n",
    "import optuna\n",
    "from optuna import Trial, visualization"
   ]
  },
  {
   "cell_type": "markdown",
   "id": "bf14030f",
   "metadata": {
    "papermill": {
     "duration": 0.010342,
     "end_time": "2022-09-11T05:58:37.649472",
     "exception": false,
     "start_time": "2022-09-11T05:58:37.639130",
     "status": "completed"
    },
    "tags": []
   },
   "source": [
    "## 🔃 Data Loading"
   ]
  },
  {
   "cell_type": "code",
   "execution_count": 2,
   "id": "0ecea9a2",
   "metadata": {
    "execution": {
     "iopub.execute_input": "2022-09-11T05:58:37.671735Z",
     "iopub.status.busy": "2022-09-11T05:58:37.671261Z",
     "iopub.status.idle": "2022-09-11T05:58:47.936430Z",
     "shell.execute_reply": "2022-09-11T05:58:47.935449Z"
    },
    "papermill": {
     "duration": 10.278988,
     "end_time": "2022-09-11T05:58:47.938842",
     "exception": false,
     "start_time": "2022-09-11T05:58:37.659854",
     "status": "completed"
    },
    "tags": []
   },
   "outputs": [],
   "source": [
    "train = pd.read_csv('../input/tab-hack-20/Week8_train.csv')\n",
    "test = pd.read_csv('../input/tab-hack-20/Week8_test.csv')\n",
    "id_col = test['id']"
   ]
  },
  {
   "cell_type": "code",
   "execution_count": 3,
   "id": "f0477f36",
   "metadata": {
    "execution": {
     "iopub.execute_input": "2022-09-11T05:58:47.954102Z",
     "iopub.status.busy": "2022-09-11T05:58:47.953773Z",
     "iopub.status.idle": "2022-09-11T05:58:47.968606Z",
     "shell.execute_reply": "2022-09-11T05:58:47.967360Z"
    },
    "papermill": {
     "duration": 0.025529,
     "end_time": "2022-09-11T05:58:47.971392",
     "exception": false,
     "start_time": "2022-09-11T05:58:47.945863",
     "status": "completed"
    },
    "tags": []
   },
   "outputs": [
    {
     "name": "stdout",
     "output_type": "stream",
     "text": [
      "Percentage of Minority Class 24.093904908970874\n"
     ]
    }
   ],
   "source": [
    "# Class Imbalance\n",
    "perc = (train['TARGET'].value_counts()[1]/train['TARGET'].value_counts()[0])*100\n",
    "print(f'Percentage of Minority Class {perc}')"
   ]
  },
  {
   "cell_type": "code",
   "execution_count": 4,
   "id": "84905c28",
   "metadata": {
    "execution": {
     "iopub.execute_input": "2022-09-11T05:58:47.987442Z",
     "iopub.status.busy": "2022-09-11T05:58:47.987172Z",
     "iopub.status.idle": "2022-09-11T05:58:47.994506Z",
     "shell.execute_reply": "2022-09-11T05:58:47.993411Z"
    },
    "papermill": {
     "duration": 0.017145,
     "end_time": "2022-09-11T05:58:47.996660",
     "exception": false,
     "start_time": "2022-09-11T05:58:47.979515",
     "status": "completed"
    },
    "tags": []
   },
   "outputs": [
    {
     "data": {
      "text/plain": [
       "(110899, 483)"
      ]
     },
     "execution_count": 4,
     "metadata": {},
     "output_type": "execute_result"
    }
   ],
   "source": [
    "# Large Dataset\n",
    "train.shape"
   ]
  },
  {
   "cell_type": "markdown",
   "id": "15c2c529",
   "metadata": {
    "papermill": {
     "duration": 0.00652,
     "end_time": "2022-09-11T05:58:48.009747",
     "exception": false,
     "start_time": "2022-09-11T05:58:48.003227",
     "status": "completed"
    },
    "tags": []
   },
   "source": [
    "### 🔮 Attempted Pseudo Labelling"
   ]
  },
  {
   "cell_type": "code",
   "execution_count": 5,
   "id": "402ecf69",
   "metadata": {
    "_kg_hide-input": true,
    "execution": {
     "iopub.execute_input": "2022-09-11T05:58:48.025301Z",
     "iopub.status.busy": "2022-09-11T05:58:48.023705Z",
     "iopub.status.idle": "2022-09-11T05:58:48.028585Z",
     "shell.execute_reply": "2022-09-11T05:58:48.027672Z"
    },
    "jupyter": {
     "source_hidden": true
    },
    "papermill": {
     "duration": 0.014287,
     "end_time": "2022-09-11T05:58:48.030582",
     "exception": false,
     "start_time": "2022-09-11T05:58:48.016295",
     "status": "completed"
    },
    "tags": []
   },
   "outputs": [],
   "source": [
    "# catboosti = pd.read_csv('../input/catboost/submission (6).csv')\n",
    "# pseudo_label = pd.DataFrame()\n",
    "# pseudo_label['TARGET'] = catboosti['TARGET']\n",
    "# pseudo_label = pd.concat([decision_tree, lgbm, catboost], axis=1)\n",
    "# pseudo_label['final'] = np.where(pseudo_label.sum(axis=1) > 1, 1, 0)\n",
    "# test['TARGET'] = [x for x in pseudo_label['TARGET']]\n",
    "# train = pd.concat([train, test], axis=0)\n",
    "# train = train.reset_index(drop = True)\n",
    "# test.drop(['TARGET'],axis = 'columns',inplace = True)"
   ]
  },
  {
   "cell_type": "markdown",
   "id": "7f549f43",
   "metadata": {
    "papermill": {
     "duration": 0.006402,
     "end_time": "2022-09-11T05:58:48.043830",
     "exception": false,
     "start_time": "2022-09-11T05:58:48.037428",
     "status": "completed"
    },
    "tags": []
   },
   "source": [
    "## ⚒ Data Preprocessing"
   ]
  },
  {
   "cell_type": "code",
   "execution_count": 6,
   "id": "5204ff4a",
   "metadata": {
    "execution": {
     "iopub.execute_input": "2022-09-11T05:58:48.058913Z",
     "iopub.status.busy": "2022-09-11T05:58:48.058622Z",
     "iopub.status.idle": "2022-09-11T05:58:48.066283Z",
     "shell.execute_reply": "2022-09-11T05:58:48.065366Z"
    },
    "papermill": {
     "duration": 0.017672,
     "end_time": "2022-09-11T05:58:48.068285",
     "exception": false,
     "start_time": "2022-09-11T05:58:48.050613",
     "status": "completed"
    },
    "tags": []
   },
   "outputs": [],
   "source": [
    "''' Utils '''\n",
    "\n",
    "def get_constant_features(df, threshold=0.99, dropna=False):\n",
    "    '''\n",
    "    For a given dataframe, identify the constant and quasi constant features.\n",
    "    To get all the constant & quasi constant features in a list - constant_features_df['Var'].to_list()\n",
    "    \n",
    "    Parameters:\n",
    "    -----------\n",
    "        df: 'dataframe'\n",
    "        threshold: 'float'. default = 0.99\n",
    "        dropna: 'bool'. default = false\n",
    "        \n",
    "    Returns:\n",
    "    --------\n",
    "        constant_features_df: 'dataframe'\n",
    "    '''\n",
    "    constant_features = []\n",
    "    constant_features_df = pd.DataFrame(columns=['Desc', 'Var', 'Value', 'Perc'])\n",
    "    all_vars = list(df.columns)\n",
    "    i=0\n",
    "    for var in all_vars:\n",
    "        s = df[var].value_counts(normalize=True, dropna=dropna)\n",
    "        value = s.index[0]\n",
    "        perc = s.iloc[0]\n",
    "    \n",
    "        if perc==1:\n",
    "            constant_features_df.loc[i] = ['Constant', var, value, 100*perc]\n",
    "\n",
    "        elif perc>threshold:\n",
    "            constant_features_df.loc[i] = ['Quasi Constant', var, value, 100*perc]\n",
    "    \n",
    "        i=i+1\n",
    "    \n",
    "    constant_features_df = constant_features_df.sort_values(by='Perc', ascending=False, ignore_index=True) \n",
    "\n",
    "    return constant_features_df"
   ]
  },
  {
   "cell_type": "markdown",
   "id": "cd2e3529",
   "metadata": {
    "papermill": {
     "duration": 0.006428,
     "end_time": "2022-09-11T05:58:48.081232",
     "exception": false,
     "start_time": "2022-09-11T05:58:48.074804",
     "status": "completed"
    },
    "tags": []
   },
   "source": [
    "### 🔻 Reducing Memory Usage"
   ]
  },
  {
   "cell_type": "code",
   "execution_count": 7,
   "id": "a3207957",
   "metadata": {
    "execution": {
     "iopub.execute_input": "2022-09-11T05:58:48.095667Z",
     "iopub.status.busy": "2022-09-11T05:58:48.095412Z",
     "iopub.status.idle": "2022-09-11T05:59:22.876930Z",
     "shell.execute_reply": "2022-09-11T05:59:22.875919Z"
    },
    "papermill": {
     "duration": 34.791626,
     "end_time": "2022-09-11T05:59:22.879613",
     "exception": false,
     "start_time": "2022-09-11T05:58:48.087987",
     "status": "completed"
    },
    "tags": []
   },
   "outputs": [],
   "source": [
    "# Datatype Conversions\n",
    "for i in train.columns:\n",
    "    if train[i].dtypes == 'float64':\n",
    "        train[i] = train[i].astype('float32')\n",
    "    elif train[i].dtypes == 'int64':\n",
    "        train[i] = train[i].astype('int32')\n",
    "        \n",
    "for i in test.columns:\n",
    "    if test[i].dtypes == 'float64':\n",
    "        test[i] = test[i].astype('float32')\n",
    "    elif test[i].dtypes == 'int64':\n",
    "        test[i] = test[i].astype('int32')"
   ]
  },
  {
   "cell_type": "markdown",
   "id": "2a49f7e5",
   "metadata": {
    "papermill": {
     "duration": 0.006499,
     "end_time": "2022-09-11T05:59:22.893504",
     "exception": false,
     "start_time": "2022-09-11T05:59:22.887005",
     "status": "completed"
    },
    "tags": []
   },
   "source": [
    "### 💧 Dropping Constant Features"
   ]
  },
  {
   "cell_type": "code",
   "execution_count": 8,
   "id": "4a257dc1",
   "metadata": {
    "execution": {
     "iopub.execute_input": "2022-09-11T05:59:22.908613Z",
     "iopub.status.busy": "2022-09-11T05:59:22.907761Z",
     "iopub.status.idle": "2022-09-11T05:59:24.102263Z",
     "shell.execute_reply": "2022-09-11T05:59:24.101235Z"
    },
    "papermill": {
     "duration": 1.204512,
     "end_time": "2022-09-11T05:59:24.104623",
     "exception": false,
     "start_time": "2022-09-11T05:59:22.900111",
     "status": "completed"
    },
    "tags": []
   },
   "outputs": [],
   "source": [
    "constant_features = get_constant_features(train, threshold=1, dropna=False)\n",
    "lst = constant_features['Var'].to_list()\n",
    "lst.append('id')\n",
    "train.drop(lst,axis = 'columns',inplace = True)\n",
    "test.drop(lst,axis = 'columns',inplace = True)"
   ]
  },
  {
   "cell_type": "markdown",
   "id": "d37919c6",
   "metadata": {
    "papermill": {
     "duration": 0.006553,
     "end_time": "2022-09-11T05:59:24.118495",
     "exception": false,
     "start_time": "2022-09-11T05:59:24.111942",
     "status": "completed"
    },
    "tags": []
   },
   "source": [
    "### 🏹 Missing Value Imputation"
   ]
  },
  {
   "cell_type": "code",
   "execution_count": 9,
   "id": "f4a20a60",
   "metadata": {
    "execution": {
     "iopub.execute_input": "2022-09-11T05:59:24.133732Z",
     "iopub.status.busy": "2022-09-11T05:59:24.132871Z",
     "iopub.status.idle": "2022-09-11T05:59:24.176567Z",
     "shell.execute_reply": "2022-09-11T05:59:24.175718Z"
    },
    "papermill": {
     "duration": 0.053398,
     "end_time": "2022-09-11T05:59:24.178696",
     "exception": false,
     "start_time": "2022-09-11T05:59:24.125298",
     "status": "completed"
    },
    "tags": []
   },
   "outputs": [],
   "source": [
    "train['V_434'] = train['V_434'].fillna('Private')\n",
    "train['V_301'] = train['V_301'].fillna('Private')\n",
    "train['V_304'] = train['V_304'].fillna('U')\n",
    "test['V_434'] = test['V_434'].fillna('Private')\n",
    "test['V_301'] = test['V_301'].fillna('Private')\n",
    "test['V_304'] = test['V_304'].fillna('U')"
   ]
  },
  {
   "cell_type": "markdown",
   "id": "a7b08c77",
   "metadata": {
    "papermill": {
     "duration": 0.006543,
     "end_time": "2022-09-11T05:59:24.192113",
     "exception": false,
     "start_time": "2022-09-11T05:59:24.185570",
     "status": "completed"
    },
    "tags": []
   },
   "source": [
    "### 😢 Dropping Some features with 0 MI scores"
   ]
  },
  {
   "cell_type": "code",
   "execution_count": 10,
   "id": "4a4fa690",
   "metadata": {
    "_kg_hide-input": true,
    "execution": {
     "iopub.execute_input": "2022-09-11T05:59:24.206470Z",
     "iopub.status.busy": "2022-09-11T05:59:24.206171Z",
     "iopub.status.idle": "2022-09-11T05:59:24.211248Z",
     "shell.execute_reply": "2022-09-11T05:59:24.210371Z"
    },
    "jupyter": {
     "source_hidden": true
    },
    "papermill": {
     "duration": 0.014731,
     "end_time": "2022-09-11T05:59:24.213447",
     "exception": false,
     "start_time": "2022-09-11T05:59:24.198716",
     "status": "completed"
    },
    "tags": []
   },
   "outputs": [],
   "source": [
    "# from sklearn.feature_selection import mutual_info_classif\n",
    "# X_train = train.drop(columns='TARGET').copy()\n",
    "# y_train = train['TARGET']\n",
    "# mi = mutual_info_classif(X_train, y_train, random_state=2021)\n",
    "# mi = pd.Series(mi)\n",
    "# mi.index = X_train.columns\n",
    "# mi = mi.sort_values(ascending=False)\n",
    "# df = pd.DataFrame(mi, columns = ['mi_value'])\n",
    "# df[df['mi_value']==0].index.tolist()"
   ]
  },
  {
   "cell_type": "code",
   "execution_count": 11,
   "id": "3b622090",
   "metadata": {
    "execution": {
     "iopub.execute_input": "2022-09-11T05:59:24.227945Z",
     "iopub.status.busy": "2022-09-11T05:59:24.227667Z",
     "iopub.status.idle": "2022-09-11T05:59:24.338878Z",
     "shell.execute_reply": "2022-09-11T05:59:24.337876Z"
    },
    "papermill": {
     "duration": 0.12139,
     "end_time": "2022-09-11T05:59:24.341480",
     "exception": false,
     "start_time": "2022-09-11T05:59:24.220090",
     "status": "completed"
    },
    "tags": []
   },
   "outputs": [],
   "source": [
    "lst = ['V_357','V_362','V_354','V_365','V_359','V_360','V_353','V_348','V_1','V_412','V_368','V_369','V_436','V_437','V_438', 'V_439','V_441','V_442','V_444','V_448','V_451','V_452','V_453','V_454','V_456','V_457','V_458','V_461','V_466','V_467','V_469','V_470','V_474','V_477','V_479','V_480','V_481','V_429','V_426','V_424','V_390','V_370','V_371','V_374','V_375','V_376','V_377','V_378','V_384','V_385','V_387','V_388','V_392','V_423','V_394','V_396','V_397','V_398', 'V_399','V_402','V_408','V_342','V_418', 'V_420', 'V_421', 'V_343','V_240','V_341','V_108','V_118','V_116','V_114','V_113', 'V_111','V_110','V_106','V_170','V_104','V_102','V_100', 'V_99', 'V_93', 'V_92','V_119','V_124','V_126','V_127','V_131','V_140','V_141','V_143','V_144','V_146','V_148', 'V_152','V_153','V_156', 'V_165', 'V_167', 'V_168', 'V_91', 'V_90', 'V_87', 'V_43', 'V_3', 'V_6', 'V_7', 'V_10', 'V_12', 'V_14', 'V_19', 'V_25', 'V_28', 'V_32', 'V_33', 'V_35', 'V_37', 'V_38', 'V_44', 'V_86', 'V_49', 'V_53', 'V_56', 'V_62', 'V_63', 'V_64', 'V_69', 'V_71', 'V_73', 'V_74', 'V_75', 'V_78', 'V_80', 'V_81', 'V_169', 'V_171', 'V_339', 'V_270', 'V_288', 'V_286', 'V_284', 'V_283', 'V_281', 'V_272','V_269','V_172','V_263','V_262','V_260','V_258','V_253','V_250','V_292','V_295','V_296','V_299','V_300','V_306','V_309','V_310','V_315', 'V_319','V_321','V_323','V_324','V_328','V_329','V_330','V_331','V_249','V_244','V_242','V_204','V_175','V_177','V_178','V_180','V_182','V_186','V_187','V_188','V_192','V_196','V_197','V_198','V_200','V_202','V_205','V_2','V_208','V_209','V_213','V_214','V_217','V_219', 'V_221','V_223','V_224','V_226','V_230','V_231','V_235','V_239','V_482']\n",
    "train.drop(lst,axis = 'columns',inplace = True)\n",
    "test.drop(lst,axis = 'columns',inplace = True)"
   ]
  },
  {
   "cell_type": "markdown",
   "id": "a208c3dc",
   "metadata": {
    "papermill": {
     "duration": 0.0066,
     "end_time": "2022-09-11T05:59:24.355034",
     "exception": false,
     "start_time": "2022-09-11T05:59:24.348434",
     "status": "completed"
    },
    "tags": []
   },
   "source": [
    "### 👨‍🔬 Feature Engineering Attempt"
   ]
  },
  {
   "cell_type": "code",
   "execution_count": 12,
   "id": "dc4c8595",
   "metadata": {
    "_kg_hide-input": true,
    "execution": {
     "iopub.execute_input": "2022-09-11T05:59:24.369632Z",
     "iopub.status.busy": "2022-09-11T05:59:24.369339Z",
     "iopub.status.idle": "2022-09-11T05:59:24.374632Z",
     "shell.execute_reply": "2022-09-11T05:59:24.373707Z"
    },
    "jupyter": {
     "source_hidden": true
    },
    "papermill": {
     "duration": 0.015,
     "end_time": "2022-09-11T05:59:24.376648",
     "exception": false,
     "start_time": "2022-09-11T05:59:24.361648",
     "status": "completed"
    },
    "tags": []
   },
   "outputs": [],
   "source": [
    "# train['cool'] = np.where(train['V_27']*train['V_42']!=0,1,0)\n",
    "# test['cool'] = np.where(test['V_27']*test['V_42']!=0,1,0)\n",
    "\n",
    "# train['coolv2'] = np.where(train['V_27']*train['V_98']!=0,1,0)\n",
    "# test['coolv2'] = np.where(test['V_27']*test['V_98']!=0,1,0)\n",
    "\n",
    "# for col in list(train.dtypes[train.dtypes == 'float32'].keys()):\n",
    "#     temp = train.groupby('V_434')[col].agg(['mean']).rename({'mean':f'col_V_434_mean'},axis=1)\n",
    "#     train = pd.merge(train,temp,on='V_434',how='left')\n",
    "#     temp = test.groupby('V_434')[col].agg(['mean']).rename({'mean':f'col_V_434_mean'},axis=1)\n",
    "#     test = pd.merge(test,temp,on='V_434',how='left')\n",
    "\n",
    "# train['V_434_301'] = train['V_434'] + '_' + train['V_301']\n",
    "# test['V_434_301'] = test['V_434'] + '_' + test['V_301']\n",
    "\n",
    "# train['V_245_400'] = train['V_245'] + '_' + train['V_400']\n",
    "# test['V_245_400'] = test['V_245'] + '_' + test['V_400']\n",
    "\n",
    "\n",
    "# lst = ['V_434','V_301']\n",
    "# for col in lst:\n",
    "#     cool = pd.concat([train[col],test[col]])\n",
    "#     temp = cool.value_counts().to_dict()\n",
    "#     train[f'{col}_counts'] = train[col].map(temp)\n",
    "# #     temp = test[col].value_counts().to_dict()\n",
    "#     test[f'{col}_counts'] = test[col].map(temp)\n",
    "\n",
    "# object_cols = list(train.dtypes[train.dtypes == 'object'].keys())\n",
    "# le = preprocessing.LabelEncoder()\n",
    "# for col in object_cols:\n",
    "#     train[col] = le.fit_transform(train[col])\n",
    "#     test[col] = le.transform(test[col])\n",
    "    \n",
    "# lst = ['V_434','V_301']\n",
    "# for col in lst:\n",
    "#     cool = train[col]\n",
    "#     temp = cool.value_counts().to_dict()\n",
    "#     train[f'{col}_counts'] = train[col].map(temp)\n",
    "#     test[f'{col}_counts'] = test[col].map(temp)"
   ]
  },
  {
   "cell_type": "markdown",
   "id": "98573fe7",
   "metadata": {
    "papermill": {
     "duration": 0.006428,
     "end_time": "2022-09-11T05:59:24.389747",
     "exception": false,
     "start_time": "2022-09-11T05:59:24.383319",
     "status": "completed"
    },
    "tags": []
   },
   "source": [
    "### 🏷 Label Encoding the Categorical Features"
   ]
  },
  {
   "cell_type": "code",
   "execution_count": 13,
   "id": "542bce84",
   "metadata": {
    "execution": {
     "iopub.execute_input": "2022-09-11T05:59:24.404605Z",
     "iopub.status.busy": "2022-09-11T05:59:24.403841Z",
     "iopub.status.idle": "2022-09-11T05:59:25.957043Z",
     "shell.execute_reply": "2022-09-11T05:59:25.956093Z"
    },
    "papermill": {
     "duration": 1.563316,
     "end_time": "2022-09-11T05:59:25.959618",
     "exception": false,
     "start_time": "2022-09-11T05:59:24.396302",
     "status": "completed"
    },
    "tags": []
   },
   "outputs": [],
   "source": [
    "object_cols = list(train.dtypes[train.dtypes == 'object'].keys())\n",
    "le = preprocessing.LabelEncoder()\n",
    "for col in object_cols:\n",
    "    temp = pd.concat([train,test])\n",
    "    le.fit(temp[col])\n",
    "    train[col] = le.transform(train[col])\n",
    "    test[col] = le.transform(test[col])\n"
   ]
  },
  {
   "cell_type": "markdown",
   "id": "5baabdb2",
   "metadata": {
    "papermill": {
     "duration": 0.006738,
     "end_time": "2022-09-11T05:59:25.973612",
     "exception": false,
     "start_time": "2022-09-11T05:59:25.966874",
     "status": "completed"
    },
    "tags": []
   },
   "source": [
    "### ❎ Creating folds for Cross Validation"
   ]
  },
  {
   "cell_type": "code",
   "execution_count": 14,
   "id": "219369ce",
   "metadata": {
    "execution": {
     "iopub.execute_input": "2022-09-11T05:59:25.988115Z",
     "iopub.status.busy": "2022-09-11T05:59:25.987824Z",
     "iopub.status.idle": "2022-09-11T05:59:26.067562Z",
     "shell.execute_reply": "2022-09-11T05:59:26.066625Z"
    },
    "papermill": {
     "duration": 0.08975,
     "end_time": "2022-09-11T05:59:26.070054",
     "exception": false,
     "start_time": "2022-09-11T05:59:25.980304",
     "status": "completed"
    },
    "tags": []
   },
   "outputs": [],
   "source": [
    "feature_cols = [col for col in train.columns.tolist() if col not in ['TARGET']]\n",
    "target_cols = ['TARGET']\n",
    "\n",
    "skf = StratifiedKFold(n_splits=5, random_state=42, shuffle=True)\n",
    "\n",
    "for i, (trn, val) in enumerate(skf.split(train[feature_cols], train[target_cols])):\n",
    "    train.loc[val, 'kfold'] = i\n",
    "train['kfold'] = train['kfold'].astype(int)"
   ]
  },
  {
   "cell_type": "markdown",
   "id": "9f3b636c",
   "metadata": {
    "papermill": {
     "duration": 0.006618,
     "end_time": "2022-09-11T05:59:26.083644",
     "exception": false,
     "start_time": "2022-09-11T05:59:26.077026",
     "status": "completed"
    },
    "tags": []
   },
   "source": [
    "### 🎁 Function to plot feature importances"
   ]
  },
  {
   "cell_type": "code",
   "execution_count": 15,
   "id": "1a77bd4f",
   "metadata": {
    "execution": {
     "iopub.execute_input": "2022-09-11T05:59:26.098038Z",
     "iopub.status.busy": "2022-09-11T05:59:26.097742Z",
     "iopub.status.idle": "2022-09-11T05:59:26.105518Z",
     "shell.execute_reply": "2022-09-11T05:59:26.104701Z"
    },
    "papermill": {
     "duration": 0.017305,
     "end_time": "2022-09-11T05:59:26.107520",
     "exception": false,
     "start_time": "2022-09-11T05:59:26.090215",
     "status": "completed"
    },
    "tags": []
   },
   "outputs": [],
   "source": [
    "def plot_feature_importance(importance,names,model_type, figsize=(10, 8)):\n",
    "    \n",
    "    #Create arrays from feature importance and feature names\n",
    "    feature_importance = np.array(importance)\n",
    "    feature_names = np.array(names)\n",
    "    \n",
    "    #Create a DataFrame using a Dictionary\n",
    "    data={'feature_names':feature_names,'feature_importance':feature_importance}\n",
    "    fi_df = pd.DataFrame(data)\n",
    "    \n",
    "    #Sort the DataFrame in order decreasing feature importance\n",
    "    fi_df.sort_values(by=['feature_importance'], ascending=False,inplace=True)\n",
    "    \n",
    "    #Define size of bar plot\n",
    "    plt.figure(figsize=figsize)\n",
    "    #Plot Searborn bar chart\n",
    "    sns.barplot(x=fi_df['feature_importance'], y=fi_df['feature_names'])\n",
    "    #Add chart labels\n",
    "    plt.title(model_type + ' FEATURE IMPORTANCE')\n",
    "    plt.xlabel('FEATURE IMPORTANCE')\n",
    "    plt.ylabel('FEATURE NAMES')"
   ]
  },
  {
   "cell_type": "markdown",
   "id": "6f59c0f0",
   "metadata": {
    "papermill": {
     "duration": 0.0064,
     "end_time": "2022-09-11T05:59:26.120492",
     "exception": false,
     "start_time": "2022-09-11T05:59:26.114092",
     "status": "completed"
    },
    "tags": []
   },
   "source": [
    "## 🚂 Model Training"
   ]
  },
  {
   "cell_type": "code",
   "execution_count": 16,
   "id": "60e58b47",
   "metadata": {
    "execution": {
     "iopub.execute_input": "2022-09-11T05:59:26.134786Z",
     "iopub.status.busy": "2022-09-11T05:59:26.134503Z",
     "iopub.status.idle": "2022-09-11T06:05:48.482373Z",
     "shell.execute_reply": "2022-09-11T06:05:48.480988Z"
    },
    "papermill": {
     "duration": 382.357747,
     "end_time": "2022-09-11T06:05:48.484760",
     "exception": false,
     "start_time": "2022-09-11T05:59:26.127013",
     "status": "completed"
    },
    "tags": []
   },
   "outputs": [
    {
     "name": "stdout",
     "output_type": "stream",
     "text": [
      "\n",
      "Starting FOLD: 0\n",
      "Training Accuracy Score -  0.7129004962608915\n",
      "Training F1 Score -  0.6532125802254822\n",
      "Validation Accuracy Score -  0.8065825067628494\n",
      "Validation F1 Score -  0.6461797044863049\n",
      "FOLD 0 completed in 141.72901940345764 seconds\n",
      "\n",
      "Starting FOLD: 1\n",
      "Training Accuracy Score -  0.7126031971093375\n",
      "Training F1 Score -  0.650716459202777\n",
      "Validation Accuracy Score -  0.8125338142470694\n",
      "Validation F1 Score -  0.6521785503083553\n",
      "FOLD 1 completed in 59.523966789245605 seconds\n",
      "\n",
      "Starting FOLD: 2\n",
      "Training Accuracy Score -  0.7121097770154374\n",
      "Training F1 Score -  0.6501999110771939\n",
      "Validation Accuracy Score -  0.8131650135256988\n",
      "Validation F1 Score -  0.659955719695241\n",
      "FOLD 2 completed in 60.315746545791626 seconds\n",
      "\n",
      "Starting FOLD: 3\n",
      "Training Accuracy Score -  0.7108747855917668\n",
      "Training F1 Score -  0.6490762944390378\n",
      "Validation Accuracy Score -  0.8097385031559964\n",
      "Validation F1 Score -  0.6507882906007804\n",
      "FOLD 3 completed in 60.14697051048279 seconds\n",
      "\n",
      "Starting FOLD: 4\n",
      "Training Accuracy Score -  0.7100189814073684\n",
      "Training F1 Score -  0.647649951806078\n",
      "Validation Accuracy Score -  0.8092339600523017\n",
      "Validation F1 Score -  0.6527754290230033\n",
      "FOLD 4 completed in 60.61655616760254 seconds\n"
     ]
    }
   ],
   "source": [
    "# 42-gpu   69-gpu\n",
    "def find_oof_score(oof):\n",
    "    predictions = oof.argmax(axis=1)\n",
    "    return f1_score(train[target_cols], predictions, average='macro')\n",
    "\n",
    "def run_training(random_state):\n",
    "    oof = np.zeros((train.shape[0], 2))\n",
    "    pred = np.zeros((test.shape[0], 2))\n",
    "    \n",
    "    for fold in range(5):\n",
    "\n",
    "        print(f\"\\nStarting FOLD: {fold}\")\n",
    "        start = time()\n",
    "        params = {\n",
    "            'task_type':'GPU',\n",
    "            'verbose':0,\n",
    "#         'max_depth': 5,\n",
    "#             'learning_rate': 0.1,\n",
    "#             'n_estimators': 500, \n",
    "#             'max_bin': 334,\n",
    "#             'min_data_in_leaf': 80,\n",
    "#             'l2_leaf_reg': 0.062365205524235925,\n",
    "#             'subsample': 0.6550580361245057}\n",
    "        }\n",
    "        \n",
    "        trn_idx = train['kfold'] != fold\n",
    "        val_idx = train['kfold'] == fold\n",
    "        trn = train.loc[trn_idx, :]\n",
    "        val = train.loc[val_idx, :]\n",
    "\n",
    "        xtr, ytr = trn[feature_cols].values, trn[target_cols].values\n",
    "        xval, yval = val[feature_cols].values, val[target_cols].values\n",
    "        xtest = test[feature_cols].values\n",
    "        undersample = RandomUnderSampler(sampling_strategy = 0.65,random_state = random_state)\n",
    "        xtr,ytr = undersample.fit_resample(xtr,ytr)\n",
    "        \n",
    "        model = catboost.CatBoostClassifier(**params)\n",
    "        \n",
    "        model.fit(xtr, ytr.reshape(-1,))\n",
    "        print(\"Training Accuracy Score - \", accuracy_score(ytr, model.predict(xtr)))\n",
    "        print(\"Training F1 Score - \", f1_score(ytr, model.predict(xtr), average='macro'))\n",
    "        \n",
    "        print(\"Validation Accuracy Score - \", accuracy_score(yval, model.predict(xval)))\n",
    "        print(\"Validation F1 Score - \", f1_score(yval, model.predict(xval), average='macro'))\n",
    "        \n",
    "        oof[val_idx, :] += model.predict_proba(xval)\n",
    "        \n",
    "        # Test preds\n",
    "        pred += model.predict_proba(xtest)/5\n",
    "        \n",
    "        print(f\"FOLD {fold} completed in {time()-start} seconds\")\n",
    "#     plot_feature_importance(model.feature_importances_, train.columns, 'CatBoost', figsize=(8, 16))\n",
    "#     plt.show()\n",
    "    return oof, pred\n",
    "\n",
    "oof, pred = run_training(69)"
   ]
  },
  {
   "cell_type": "code",
   "execution_count": 17,
   "id": "33df0e6d",
   "metadata": {
    "execution": {
     "iopub.execute_input": "2022-09-11T06:05:48.501431Z",
     "iopub.status.busy": "2022-09-11T06:05:48.501135Z",
     "iopub.status.idle": "2022-09-11T06:05:48.543496Z",
     "shell.execute_reply": "2022-09-11T06:05:48.542156Z"
    },
    "papermill": {
     "duration": 0.052929,
     "end_time": "2022-09-11T06:05:48.545585",
     "exception": false,
     "start_time": "2022-09-11T06:05:48.492656",
     "status": "completed"
    },
    "tags": []
   },
   "outputs": [
    {
     "name": "stdout",
     "output_type": "stream",
     "text": [
      "0.6523905036267263\n"
     ]
    }
   ],
   "source": [
    "# 0.6525343017800713\n",
    "print(find_oof_score(oof))"
   ]
  },
  {
   "cell_type": "markdown",
   "id": "5f7f98a3",
   "metadata": {
    "papermill": {
     "duration": 0.007308,
     "end_time": "2022-09-11T06:05:48.560513",
     "exception": false,
     "start_time": "2022-09-11T06:05:48.553205",
     "status": "completed"
    },
    "tags": []
   },
   "source": [
    "## 🎶 Hyperparameter Tuning Optuna Template Code"
   ]
  },
  {
   "cell_type": "code",
   "execution_count": 18,
   "id": "d2263f4d",
   "metadata": {
    "execution": {
     "iopub.execute_input": "2022-09-11T06:05:48.577114Z",
     "iopub.status.busy": "2022-09-11T06:05:48.576558Z",
     "iopub.status.idle": "2022-09-11T06:05:48.588456Z",
     "shell.execute_reply": "2022-09-11T06:05:48.587604Z"
    },
    "papermill": {
     "duration": 0.022357,
     "end_time": "2022-09-11T06:05:48.590386",
     "exception": false,
     "start_time": "2022-09-11T06:05:48.568029",
     "status": "completed"
    },
    "tags": []
   },
   "outputs": [],
   "source": [
    "def fit_cb(trial, xtr, ytr, xval, yval):\n",
    "    params = {\n",
    "        'max_depth': trial.suggest_int('max_depth', 3, 16),\n",
    "        'learning_rate': trial.suggest_categorical('learning_rate', [0.005, 0.02, 0.05, 0.08, 0.1]),\n",
    "        'n_estimators': trial.suggest_int('n_estimators', 100,100),\n",
    "        'max_bin': trial.suggest_int('max_bin', 200, 400),\n",
    "        'min_data_in_leaf': trial.suggest_int('min_data_in_leaf', 1, 300),\n",
    "        'l2_leaf_reg': trial.suggest_float('l2_leaf_reg', 0.0001, 1.0, log = True),\n",
    "        'subsample': trial.suggest_float('subsample', 0.1, 0.8),\n",
    "        'random_seed': 42,\n",
    "        'task_type': 'GPU',\n",
    "#         'loss_function': 'Logloss',\n",
    "        'bootstrap_type': 'Poisson',\n",
    "        'verbose':0\n",
    "    }\n",
    "#     undersample = RandomUnderSampler(sampling_strategy = 0.65,random_state = 42)\n",
    "#     xtr,ytr = undersample.fit_resample(xtr,ytr)\n",
    "    model = catboost.CatBoostClassifier(**params)\n",
    "    model.fit(xtr, ytr.reshape(-1,))\n",
    "    \n",
    "    y_val_pred = model.predict(xval)\n",
    "    \n",
    "    log = {\n",
    "        \"train f1\": f1_score(ytr, model.predict(xtr), average=\"macro\"),\n",
    "        \"valid f1\": f1_score(yval, y_val_pred, average=\"macro\")\n",
    "    }\n",
    "    \n",
    "    return model, y_val_pred, log\n",
    "\n",
    "def objective(trial):\n",
    "    oof = np.zeros((train.shape[0], 2))\n",
    "    \n",
    "    for fold in range(5):\n",
    "        trn_idx = train['kfold'] != fold\n",
    "        val_idx = train['kfold'] == fold\n",
    "        trn = train.loc[trn_idx, :]\n",
    "        val = train.loc[val_idx, :]\n",
    "\n",
    "        xtr, ytr = trn[feature_cols].values, trn[target_cols].values\n",
    "        xval, yval = val[feature_cols].values, val[target_cols].values\n",
    "        undersample = RandomUnderSampler(sampling_strategy = 0.65,random_state = 42)\n",
    "        xtr,ytr = undersample.fit_resample(xtr,ytr)\n",
    "        model, y_val_pred, log = fit_cb(trial, xtr, ytr, xval, yval)\n",
    "        oof[val_idx, :] += model.predict_proba(xval)\n",
    "        \n",
    "    return find_oof_score(oof)\n",
    "\n",
    "# study = optuna.create_study(direction=\"maximize\")\n",
    "# study.optimize(objective, n_trials=50)"
   ]
  },
  {
   "cell_type": "markdown",
   "id": "6e62aa76",
   "metadata": {
    "papermill": {
     "duration": 0.007269,
     "end_time": "2022-09-11T06:05:48.605007",
     "exception": false,
     "start_time": "2022-09-11T06:05:48.597738",
     "status": "completed"
    },
    "tags": []
   },
   "source": [
    "## 📝 Submission"
   ]
  },
  {
   "cell_type": "code",
   "execution_count": 19,
   "id": "8dc1066a",
   "metadata": {
    "execution": {
     "iopub.execute_input": "2022-09-11T06:05:48.621152Z",
     "iopub.status.busy": "2022-09-11T06:05:48.620898Z",
     "iopub.status.idle": "2022-09-11T06:05:48.635754Z",
     "shell.execute_reply": "2022-09-11T06:05:48.634739Z"
    },
    "papermill": {
     "duration": 0.025346,
     "end_time": "2022-09-11T06:05:48.637975",
     "exception": false,
     "start_time": "2022-09-11T06:05:48.612629",
     "status": "completed"
    },
    "tags": []
   },
   "outputs": [
    {
     "data": {
      "text/html": [
       "<div>\n",
       "<style scoped>\n",
       "    .dataframe tbody tr th:only-of-type {\n",
       "        vertical-align: middle;\n",
       "    }\n",
       "\n",
       "    .dataframe tbody tr th {\n",
       "        vertical-align: top;\n",
       "    }\n",
       "\n",
       "    .dataframe thead th {\n",
       "        text-align: right;\n",
       "    }\n",
       "</style>\n",
       "<table border=\"1\" class=\"dataframe\">\n",
       "  <thead>\n",
       "    <tr style=\"text-align: right;\">\n",
       "      <th></th>\n",
       "      <th>TARGET</th>\n",
       "      <th>id</th>\n",
       "    </tr>\n",
       "  </thead>\n",
       "  <tbody>\n",
       "    <tr>\n",
       "      <th>0</th>\n",
       "      <td>0</td>\n",
       "      <td>0</td>\n",
       "    </tr>\n",
       "    <tr>\n",
       "      <th>1</th>\n",
       "      <td>0</td>\n",
       "      <td>1</td>\n",
       "    </tr>\n",
       "    <tr>\n",
       "      <th>2</th>\n",
       "      <td>0</td>\n",
       "      <td>2</td>\n",
       "    </tr>\n",
       "    <tr>\n",
       "      <th>3</th>\n",
       "      <td>0</td>\n",
       "      <td>3</td>\n",
       "    </tr>\n",
       "    <tr>\n",
       "      <th>4</th>\n",
       "      <td>0</td>\n",
       "      <td>4</td>\n",
       "    </tr>\n",
       "    <tr>\n",
       "      <th>...</th>\n",
       "      <td>...</td>\n",
       "      <td>...</td>\n",
       "    </tr>\n",
       "    <tr>\n",
       "      <th>110894</th>\n",
       "      <td>0</td>\n",
       "      <td>110894</td>\n",
       "    </tr>\n",
       "    <tr>\n",
       "      <th>110895</th>\n",
       "      <td>0</td>\n",
       "      <td>110895</td>\n",
       "    </tr>\n",
       "    <tr>\n",
       "      <th>110896</th>\n",
       "      <td>1</td>\n",
       "      <td>110896</td>\n",
       "    </tr>\n",
       "    <tr>\n",
       "      <th>110897</th>\n",
       "      <td>0</td>\n",
       "      <td>110897</td>\n",
       "    </tr>\n",
       "    <tr>\n",
       "      <th>110898</th>\n",
       "      <td>0</td>\n",
       "      <td>110898</td>\n",
       "    </tr>\n",
       "  </tbody>\n",
       "</table>\n",
       "<p>110899 rows × 2 columns</p>\n",
       "</div>"
      ],
      "text/plain": [
       "        TARGET      id\n",
       "0            0       0\n",
       "1            0       1\n",
       "2            0       2\n",
       "3            0       3\n",
       "4            0       4\n",
       "...        ...     ...\n",
       "110894       0  110894\n",
       "110895       0  110895\n",
       "110896       1  110896\n",
       "110897       0  110897\n",
       "110898       0  110898\n",
       "\n",
       "[110899 rows x 2 columns]"
      ]
     },
     "execution_count": 19,
     "metadata": {},
     "output_type": "execute_result"
    }
   ],
   "source": [
    "final_preds = pred.argmax(axis=1)\n",
    "pred_csv = pd.DataFrame(final_preds.reshape(-1), columns=['TARGET'] )\n",
    "pred_csv['id'] = id_col\n",
    "pred_csv"
   ]
  },
  {
   "cell_type": "code",
   "execution_count": 20,
   "id": "38b8b01f",
   "metadata": {
    "execution": {
     "iopub.execute_input": "2022-09-11T06:05:48.654283Z",
     "iopub.status.busy": "2022-09-11T06:05:48.654032Z",
     "iopub.status.idle": "2022-09-11T06:05:48.753568Z",
     "shell.execute_reply": "2022-09-11T06:05:48.752729Z"
    },
    "papermill": {
     "duration": 0.109983,
     "end_time": "2022-09-11T06:05:48.755613",
     "exception": false,
     "start_time": "2022-09-11T06:05:48.645630",
     "status": "completed"
    },
    "tags": []
   },
   "outputs": [],
   "source": [
    "pred_csv.to_csv('submission.csv',index = False)\n",
    "np.save('oof_cat.npy', oof)\n",
    "np.save('pred_cat.npy', pred)"
   ]
  }
 ],
 "metadata": {
  "kernelspec": {
   "display_name": "Python 3",
   "language": "python",
   "name": "python3"
  },
  "language_info": {
   "codemirror_mode": {
    "name": "ipython",
    "version": 3
   },
   "file_extension": ".py",
   "mimetype": "text/x-python",
   "name": "python",
   "nbconvert_exporter": "python",
   "pygments_lexer": "ipython3",
   "version": "3.7.12"
  },
  "papermill": {
   "default_parameters": {},
   "duration": 441.927635,
   "end_time": "2022-09-11T06:05:49.483839",
   "environment_variables": {},
   "exception": null,
   "input_path": "__notebook__.ipynb",
   "output_path": "__notebook__.ipynb",
   "parameters": {},
   "start_time": "2022-09-11T05:58:27.556204",
   "version": "2.3.4"
  }
 },
 "nbformat": 4,
 "nbformat_minor": 5
}
